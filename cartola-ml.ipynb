{
 "cells": [
  {
   "cell_type": "code",
   "execution_count": 1,
   "id": "d8d9f7f1",
   "metadata": {},
   "outputs": [
    {
     "name": "stdout",
     "output_type": "stream",
     "text": [
      "hello world!\n"
     ]
    }
   ],
   "source": [
    "print(\"hello world!\")"
   ]
  },
  {
   "cell_type": "code",
   "execution_count": 2,
   "id": "4d31a51e",
   "metadata": {},
   "outputs": [],
   "source": [
    "import os\n",
    "import tarfile\n",
    "from six.moves import urllib"
   ]
  },
  {
   "cell_type": "markdown",
   "id": "423db978",
   "metadata": {},
   "source": [
    "# GET DATA"
   ]
  },
  {
   "cell_type": "code",
   "execution_count": 3,
   "id": "bfc94ffe",
   "metadata": {},
   "outputs": [
    {
     "name": "stdout",
     "output_type": "stream",
     "text": [
      "https://www.kaggle.com/lgmoneda/cartola-fc-brasil-scouts\n",
      "Skipping, found downloaded files in \"datasets/scouts/cartola-fc-brasil-scouts\" (use force=True to force download)\n"
     ]
    }
   ],
   "source": [
    "import opendatasets as od \n",
    "import zipfile\n",
    "\n",
    "DOWNLOAD_ROOT = \"https://www.kaggle.com/lgmoneda/cartola-fc-brasil-scouts\"\n",
    "SCOUTS_PATH = os.path.join(\"datasets\", \"scouts\")\n",
    "SCOUTS_URL = DOWNLOAD_ROOT\n",
    "\n",
    "\n",
    "def fetch_scouts_data(scouts_url=SCOUTS_URL, scouts_path=SCOUTS_PATH):\n",
    "    if not os.path.isdir(scouts_path):\n",
    "        os.makedirs(scouts_path)\n",
    "    \n",
    "    zip_path = os.path.join(scouts_path, \"archive.zip\")\n",
    "    print(scouts_url)\n",
    "    od.download(DOWNLOAD_ROOT, scouts_path)\n",
    "\n",
    "#     scouts_zip = tarfile.open(zip_path)\n",
    "#     scouts_zip.extractall(path=scouts_path)\n",
    "#     scouts_zip.close()\n",
    "    \n",
    "fetch_scouts_data()\n",
    "\n",
    "import pandas as pd\n",
    "\n",
    "def load_scouts_data(scout_path=SCOUTS_PATH):\n",
    "    csv_path = os.path.join(scout_path + \"/cartola-fc-brasil-scouts\", \"jogadores.csv\")\n",
    "    print(csv_path)\n",
    "    return pd.read_csv(csv_path)"
   ]
  },
  {
   "cell_type": "code",
   "execution_count": 4,
   "id": "6c7e9324",
   "metadata": {},
   "outputs": [
    {
     "name": "stdout",
     "output_type": "stream",
     "text": [
      "datasets/scouts/cartola-fc-brasil-scouts/jogadores.csv\n"
     ]
    }
   ],
   "source": [
    "scouts = load_scouts_data()\n"
   ]
  },
  {
   "cell_type": "code",
   "execution_count": 5,
   "id": "33996e1c",
   "metadata": {},
   "outputs": [
    {
     "data": {
      "text/html": [
       "<div>\n",
       "<style scoped>\n",
       "    .dataframe tbody tr th:only-of-type {\n",
       "        vertical-align: middle;\n",
       "    }\n",
       "\n",
       "    .dataframe tbody tr th {\n",
       "        vertical-align: top;\n",
       "    }\n",
       "\n",
       "    .dataframe thead th {\n",
       "        text-align: right;\n",
       "    }\n",
       "</style>\n",
       "<table border=\"1\" class=\"dataframe\">\n",
       "  <thead>\n",
       "    <tr style=\"text-align: right;\">\n",
       "      <th></th>\n",
       "      <th>mandante</th>\n",
       "      <th>visitante</th>\n",
       "      <th>placar_mandante</th>\n",
       "      <th>placar_visitante</th>\n",
       "      <th>data</th>\n",
       "      <th>local</th>\n",
       "      <th>rodada</th>\n",
       "      <th>ano</th>\n",
       "    </tr>\n",
       "  </thead>\n",
       "  <tbody>\n",
       "    <tr>\n",
       "      <th>0</th>\n",
       "      <td>Fortaleza</td>\n",
       "      <td>Athlético-PR</td>\n",
       "      <td>0.0</td>\n",
       "      <td>2.0</td>\n",
       "      <td>SÁB, 08/08 19:00</td>\n",
       "      <td>Castelão (CE)</td>\n",
       "      <td>1</td>\n",
       "      <td>2020</td>\n",
       "    </tr>\n",
       "    <tr>\n",
       "      <th>1</th>\n",
       "      <td>Coritiba</td>\n",
       "      <td>Internacional</td>\n",
       "      <td>0.0</td>\n",
       "      <td>1.0</td>\n",
       "      <td>SÁB, 08/08 19:30</td>\n",
       "      <td>Couto Pereira</td>\n",
       "      <td>1</td>\n",
       "      <td>2020</td>\n",
       "    </tr>\n",
       "    <tr>\n",
       "      <th>2</th>\n",
       "      <td>Sport</td>\n",
       "      <td>Ceará</td>\n",
       "      <td>3.0</td>\n",
       "      <td>2.0</td>\n",
       "      <td>SÁB, 08/08 21:00</td>\n",
       "      <td>Ilha do Retiro</td>\n",
       "      <td>1</td>\n",
       "      <td>2020</td>\n",
       "    </tr>\n",
       "    <tr>\n",
       "      <th>3</th>\n",
       "      <td>Botafogo</td>\n",
       "      <td>Bahia</td>\n",
       "      <td>NaN</td>\n",
       "      <td>NaN</td>\n",
       "      <td>DOM, 09/08 11:00</td>\n",
       "      <td>JOGO ADIADO* (Partida não válida para a rodada)</td>\n",
       "      <td>1</td>\n",
       "      <td>2020</td>\n",
       "    </tr>\n",
       "    <tr>\n",
       "      <th>4</th>\n",
       "      <td>Flamengo</td>\n",
       "      <td>Atlético-MG</td>\n",
       "      <td>0.0</td>\n",
       "      <td>1.0</td>\n",
       "      <td>DOM, 09/08 16:00</td>\n",
       "      <td>Maracanã</td>\n",
       "      <td>1</td>\n",
       "      <td>2020</td>\n",
       "    </tr>\n",
       "  </tbody>\n",
       "</table>\n",
       "</div>"
      ],
      "text/plain": [
       "    mandante      visitante  placar_mandante  placar_visitante  \\\n",
       "0  Fortaleza   Athlético-PR              0.0               2.0   \n",
       "1   Coritiba  Internacional              0.0               1.0   \n",
       "2      Sport          Ceará              3.0               2.0   \n",
       "3   Botafogo          Bahia              NaN               NaN   \n",
       "4   Flamengo    Atlético-MG              0.0               1.0   \n",
       "\n",
       "               data                                            local  rodada  \\\n",
       "0  SÁB, 08/08 19:00                                    Castelão (CE)       1   \n",
       "1  SÁB, 08/08 19:30                                    Couto Pereira       1   \n",
       "2  SÁB, 08/08 21:00                                   Ilha do Retiro       1   \n",
       "3  DOM, 09/08 11:00  JOGO ADIADO* (Partida não válida para a rodada)       1   \n",
       "4  DOM, 09/08 16:00                                         Maracanã       1   \n",
       "\n",
       "    ano  \n",
       "0  2020  \n",
       "1  2020  \n",
       "2  2020  \n",
       "3  2020  \n",
       "4  2020  "
      ]
     },
     "execution_count": 5,
     "metadata": {},
     "output_type": "execute_result"
    }
   ],
   "source": [
    "games_path = os.path.join(SCOUTS_PATH + \"/cartola-fc-brasil-scouts\", \"jogos.csv\")\n",
    "games = pd.read_csv(games_path)\n",
    "games.head()"
   ]
  },
  {
   "cell_type": "code",
   "execution_count": 6,
   "id": "0e63c072",
   "metadata": {},
   "outputs": [],
   "source": [
    "scouts_with_local = pd.merge(scouts,games,how='inner',left_on=['Clube', 'rodada', 'ano'],right_on=['mandante','rodada', 'ano'])\n",
    "scouts_with_away =  pd.merge(scouts,games,how='inner',left_on=['Clube', 'rodada', 'ano'],right_on=['visitante','rodada', 'ano'])\n",
    "scouts = pd.concat([scouts_with_local, scouts_with_away], ignore_index=True, sort=False)"
   ]
  },
  {
   "cell_type": "markdown",
   "id": "78ec97e6",
   "metadata": {},
   "source": [
    "# Looking at the data "
   ]
  },
  {
   "cell_type": "code",
   "execution_count": 7,
   "id": "fc4b1da7",
   "metadata": {},
   "outputs": [
    {
     "data": {
      "text/html": [
       "<div>\n",
       "<style scoped>\n",
       "    .dataframe tbody tr th:only-of-type {\n",
       "        vertical-align: middle;\n",
       "    }\n",
       "\n",
       "    .dataframe tbody tr th {\n",
       "        vertical-align: top;\n",
       "    }\n",
       "\n",
       "    .dataframe thead th {\n",
       "        text-align: right;\n",
       "    }\n",
       "</style>\n",
       "<table border=\"1\" class=\"dataframe\">\n",
       "  <thead>\n",
       "    <tr style=\"text-align: right;\">\n",
       "      <th></th>\n",
       "      <th>Nome</th>\n",
       "      <th>Clube</th>\n",
       "      <th>Preço</th>\n",
       "      <th>J</th>\n",
       "      <th>Média</th>\n",
       "      <th>Últ. Pont.</th>\n",
       "      <th>Variação</th>\n",
       "      <th>DS</th>\n",
       "      <th>G</th>\n",
       "      <th>A</th>\n",
       "      <th>...</th>\n",
       "      <th>rodada</th>\n",
       "      <th>ano</th>\n",
       "      <th>RB</th>\n",
       "      <th>PE</th>\n",
       "      <th>mandante</th>\n",
       "      <th>visitante</th>\n",
       "      <th>placar_mandante</th>\n",
       "      <th>placar_visitante</th>\n",
       "      <th>data</th>\n",
       "      <th>local</th>\n",
       "    </tr>\n",
       "  </thead>\n",
       "  <tbody>\n",
       "    <tr>\n",
       "      <th>0</th>\n",
       "      <td>Elton (ATA)</td>\n",
       "      <td>Sport</td>\n",
       "      <td>14.21</td>\n",
       "      <td>1.0</td>\n",
       "      <td>15.60</td>\n",
       "      <td>15.60</td>\n",
       "      <td>10.21</td>\n",
       "      <td>NaN</td>\n",
       "      <td>2.0</td>\n",
       "      <td>NaN</td>\n",
       "      <td>...</td>\n",
       "      <td>1</td>\n",
       "      <td>2020</td>\n",
       "      <td>NaN</td>\n",
       "      <td>NaN</td>\n",
       "      <td>Sport</td>\n",
       "      <td>Ceará</td>\n",
       "      <td>3.0</td>\n",
       "      <td>2.0</td>\n",
       "      <td>SÁB, 08/08 21:00</td>\n",
       "      <td>Ilha do Retiro</td>\n",
       "    </tr>\n",
       "    <tr>\n",
       "      <th>1</th>\n",
       "      <td>Jonatan Gomez (MEI)</td>\n",
       "      <td>Sport</td>\n",
       "      <td>11.96</td>\n",
       "      <td>1.0</td>\n",
       "      <td>9.50</td>\n",
       "      <td>9.50</td>\n",
       "      <td>4.96</td>\n",
       "      <td>NaN</td>\n",
       "      <td>1.0</td>\n",
       "      <td>NaN</td>\n",
       "      <td>...</td>\n",
       "      <td>1</td>\n",
       "      <td>2020</td>\n",
       "      <td>NaN</td>\n",
       "      <td>NaN</td>\n",
       "      <td>Sport</td>\n",
       "      <td>Ceará</td>\n",
       "      <td>3.0</td>\n",
       "      <td>2.0</td>\n",
       "      <td>SÁB, 08/08 21:00</td>\n",
       "      <td>Ilha do Retiro</td>\n",
       "    </tr>\n",
       "    <tr>\n",
       "      <th>2</th>\n",
       "      <td>Patric (LAT)</td>\n",
       "      <td>Sport</td>\n",
       "      <td>7.46</td>\n",
       "      <td>1.0</td>\n",
       "      <td>5.30</td>\n",
       "      <td>5.30</td>\n",
       "      <td>2.46</td>\n",
       "      <td>1.0</td>\n",
       "      <td>NaN</td>\n",
       "      <td>1.0</td>\n",
       "      <td>...</td>\n",
       "      <td>1</td>\n",
       "      <td>2020</td>\n",
       "      <td>NaN</td>\n",
       "      <td>NaN</td>\n",
       "      <td>Sport</td>\n",
       "      <td>Ceará</td>\n",
       "      <td>3.0</td>\n",
       "      <td>2.0</td>\n",
       "      <td>SÁB, 08/08 21:00</td>\n",
       "      <td>Ilha do Retiro</td>\n",
       "    </tr>\n",
       "    <tr>\n",
       "      <th>3</th>\n",
       "      <td>Daniel Paulista (TEC)</td>\n",
       "      <td>Sport</td>\n",
       "      <td>4.65</td>\n",
       "      <td>1.0</td>\n",
       "      <td>4.42</td>\n",
       "      <td>4.42</td>\n",
       "      <td>2.65</td>\n",
       "      <td>NaN</td>\n",
       "      <td>NaN</td>\n",
       "      <td>NaN</td>\n",
       "      <td>...</td>\n",
       "      <td>1</td>\n",
       "      <td>2020</td>\n",
       "      <td>NaN</td>\n",
       "      <td>NaN</td>\n",
       "      <td>Sport</td>\n",
       "      <td>Ceará</td>\n",
       "      <td>3.0</td>\n",
       "      <td>2.0</td>\n",
       "      <td>SÁB, 08/08 21:00</td>\n",
       "      <td>Ilha do Retiro</td>\n",
       "    </tr>\n",
       "    <tr>\n",
       "      <th>4</th>\n",
       "      <td>Sander (LAT)</td>\n",
       "      <td>Sport</td>\n",
       "      <td>8.19</td>\n",
       "      <td>1.0</td>\n",
       "      <td>4.30</td>\n",
       "      <td>4.30</td>\n",
       "      <td>1.19</td>\n",
       "      <td>4.0</td>\n",
       "      <td>NaN</td>\n",
       "      <td>NaN</td>\n",
       "      <td>...</td>\n",
       "      <td>1</td>\n",
       "      <td>2020</td>\n",
       "      <td>NaN</td>\n",
       "      <td>NaN</td>\n",
       "      <td>Sport</td>\n",
       "      <td>Ceará</td>\n",
       "      <td>3.0</td>\n",
       "      <td>2.0</td>\n",
       "      <td>SÁB, 08/08 21:00</td>\n",
       "      <td>Ilha do Retiro</td>\n",
       "    </tr>\n",
       "  </tbody>\n",
       "</table>\n",
       "<p>5 rows × 35 columns</p>\n",
       "</div>"
      ],
      "text/plain": [
       "                    Nome  Clube  Preço    J  Média  Últ. Pont.  Variação   DS  \\\n",
       "0            Elton (ATA)  Sport  14.21  1.0  15.60       15.60     10.21  NaN   \n",
       "1    Jonatan Gomez (MEI)  Sport  11.96  1.0   9.50        9.50      4.96  NaN   \n",
       "2           Patric (LAT)  Sport   7.46  1.0   5.30        5.30      2.46  1.0   \n",
       "3  Daniel Paulista (TEC)  Sport   4.65  1.0   4.42        4.42      2.65  NaN   \n",
       "4           Sander (LAT)  Sport   8.19  1.0   4.30        4.30      1.19  4.0   \n",
       "\n",
       "     G    A  ...  rodada   ano  RB  PE  mandante  visitante  placar_mandante  \\\n",
       "0  2.0  NaN  ...       1  2020 NaN NaN     Sport      Ceará              3.0   \n",
       "1  1.0  NaN  ...       1  2020 NaN NaN     Sport      Ceará              3.0   \n",
       "2  NaN  1.0  ...       1  2020 NaN NaN     Sport      Ceará              3.0   \n",
       "3  NaN  NaN  ...       1  2020 NaN NaN     Sport      Ceará              3.0   \n",
       "4  NaN  NaN  ...       1  2020 NaN NaN     Sport      Ceará              3.0   \n",
       "\n",
       "   placar_visitante              data           local  \n",
       "0               2.0  SÁB, 08/08 21:00  Ilha do Retiro  \n",
       "1               2.0  SÁB, 08/08 21:00  Ilha do Retiro  \n",
       "2               2.0  SÁB, 08/08 21:00  Ilha do Retiro  \n",
       "3               2.0  SÁB, 08/08 21:00  Ilha do Retiro  \n",
       "4               2.0  SÁB, 08/08 21:00  Ilha do Retiro  \n",
       "\n",
       "[5 rows x 35 columns]"
      ]
     },
     "execution_count": 7,
     "metadata": {},
     "output_type": "execute_result"
    }
   ],
   "source": [
    "scouts.head()"
   ]
  },
  {
   "cell_type": "code",
   "execution_count": 8,
   "id": "b171f356",
   "metadata": {},
   "outputs": [
    {
     "name": "stdout",
     "output_type": "stream",
     "text": [
      "<class 'pandas.core.frame.DataFrame'>\n",
      "RangeIndex: 16404 entries, 0 to 16403\n",
      "Data columns (total 35 columns):\n",
      " #   Column            Non-Null Count  Dtype  \n",
      "---  ------            --------------  -----  \n",
      " 0   Nome              16404 non-null  object \n",
      " 1   Clube             16404 non-null  object \n",
      " 2   Preço             16404 non-null  float64\n",
      " 3   J                 16404 non-null  float64\n",
      " 4   Média             16404 non-null  float64\n",
      " 5   Últ. Pont.        16404 non-null  float64\n",
      " 6   Variação          16404 non-null  float64\n",
      " 7   DS                6471 non-null   float64\n",
      " 8   G                 6581 non-null   float64\n",
      " 9   A                 5905 non-null   float64\n",
      " 10  SG                5805 non-null   float64\n",
      " 11  FS                13844 non-null  float64\n",
      " 12  FF                11416 non-null  float64\n",
      " 13  FD                10229 non-null  float64\n",
      " 14  FT                2930 non-null   float64\n",
      " 15  DD                1322 non-null   float64\n",
      " 16  DP                412 non-null    float64\n",
      " 17  GC                414 non-null    float64\n",
      " 18  CV                1323 non-null   float64\n",
      " 19  CA                10437 non-null  float64\n",
      " 20  PP                560 non-null    float64\n",
      " 21  GS                1341 non-null   float64\n",
      " 22  FC                13312 non-null  float64\n",
      " 23  I                 6010 non-null   float64\n",
      " 24  PI                7065 non-null   float64\n",
      " 25  rodada            16404 non-null  int64  \n",
      " 26  ano               16404 non-null  int64  \n",
      " 27  RB                6830 non-null   float64\n",
      " 28  PE                7530 non-null   float64\n",
      " 29  mandante          16404 non-null  object \n",
      " 30  visitante         16404 non-null  object \n",
      " 31  placar_mandante   15876 non-null  float64\n",
      " 32  placar_visitante  15876 non-null  float64\n",
      " 33  data              16404 non-null  object \n",
      " 34  local             16404 non-null  object \n",
      "dtypes: float64(27), int64(2), object(6)\n",
      "memory usage: 4.4+ MB\n"
     ]
    }
   ],
   "source": [
    "scouts.info()"
   ]
  },
  {
   "cell_type": "code",
   "execution_count": 9,
   "id": "ca2f06c9",
   "metadata": {},
   "outputs": [],
   "source": [
    "#criando attr posicao\n",
    "scouts[\"Posicao\"] = scouts[\"Nome\"].apply(lambda x : pd.Series(x.split('(')))[1].str.replace(\")\",\"\", regex=True)\n"
   ]
  },
  {
   "cell_type": "code",
   "execution_count": 10,
   "id": "9406768a",
   "metadata": {},
   "outputs": [
    {
     "data": {
      "text/plain": [
       "MEI    5017\n",
       "ATA    3143\n",
       "ZAG    2795\n",
       "LAT    2625\n",
       "TEC    1438\n",
       "GOL    1386\n",
       "Name: Posicao, dtype: int64"
      ]
     },
     "execution_count": 10,
     "metadata": {},
     "output_type": "execute_result"
    }
   ],
   "source": [
    "scouts[\"Posicao\"].value_counts()"
   ]
  },
  {
   "cell_type": "code",
   "execution_count": 11,
   "id": "5a6c2b53",
   "metadata": {},
   "outputs": [],
   "source": [
    "def isLocal(row):\n",
    "    if row['Clube'] == row['mandante']:\n",
    "        val = 1\n",
    "    else:\n",
    "        val = 0\n",
    "    return val\n",
    "\n",
    "def isAway(row):\n",
    "    if row['Clube'] == row['visitante']:\n",
    "        val = 1\n",
    "    else:\n",
    "        val = 0\n",
    "    return val\n",
    "\n",
    "scouts['e_mandante'] = scouts.apply(isLocal, axis=1)\n",
    "scouts['e_visitante'] = scouts.apply(isAway, axis=1)"
   ]
  },
  {
   "cell_type": "code",
   "execution_count": 12,
   "id": "a50aff9f",
   "metadata": {},
   "outputs": [
    {
     "data": {
      "text/html": [
       "<div>\n",
       "<style scoped>\n",
       "    .dataframe tbody tr th:only-of-type {\n",
       "        vertical-align: middle;\n",
       "    }\n",
       "\n",
       "    .dataframe tbody tr th {\n",
       "        vertical-align: top;\n",
       "    }\n",
       "\n",
       "    .dataframe thead th {\n",
       "        text-align: right;\n",
       "    }\n",
       "</style>\n",
       "<table border=\"1\" class=\"dataframe\">\n",
       "  <thead>\n",
       "    <tr style=\"text-align: right;\">\n",
       "      <th></th>\n",
       "      <th>Preço</th>\n",
       "      <th>J</th>\n",
       "      <th>Média</th>\n",
       "      <th>Últ. Pont.</th>\n",
       "      <th>Variação</th>\n",
       "      <th>DS</th>\n",
       "      <th>G</th>\n",
       "      <th>A</th>\n",
       "      <th>SG</th>\n",
       "      <th>FS</th>\n",
       "      <th>...</th>\n",
       "      <th>I</th>\n",
       "      <th>PI</th>\n",
       "      <th>rodada</th>\n",
       "      <th>ano</th>\n",
       "      <th>RB</th>\n",
       "      <th>PE</th>\n",
       "      <th>placar_mandante</th>\n",
       "      <th>placar_visitante</th>\n",
       "      <th>e_mandante</th>\n",
       "      <th>e_visitante</th>\n",
       "    </tr>\n",
       "  </thead>\n",
       "  <tbody>\n",
       "    <tr>\n",
       "      <th>count</th>\n",
       "      <td>16404.000000</td>\n",
       "      <td>16404.000000</td>\n",
       "      <td>16404.000000</td>\n",
       "      <td>16404.000000</td>\n",
       "      <td>16404.000000</td>\n",
       "      <td>6471.000000</td>\n",
       "      <td>6581.000000</td>\n",
       "      <td>5905.000000</td>\n",
       "      <td>5805.000000</td>\n",
       "      <td>13844.000000</td>\n",
       "      <td>...</td>\n",
       "      <td>6010.000000</td>\n",
       "      <td>7065.000000</td>\n",
       "      <td>16404.000000</td>\n",
       "      <td>16404.000000</td>\n",
       "      <td>6830.000000</td>\n",
       "      <td>7530.000000</td>\n",
       "      <td>15876.000000</td>\n",
       "      <td>15876.000000</td>\n",
       "      <td>16404.000000</td>\n",
       "      <td>16404.000000</td>\n",
       "    </tr>\n",
       "    <tr>\n",
       "      <th>mean</th>\n",
       "      <td>7.325429</td>\n",
       "      <td>12.265301</td>\n",
       "      <td>3.073508</td>\n",
       "      <td>2.910665</td>\n",
       "      <td>0.064092</td>\n",
       "      <td>19.033071</td>\n",
       "      <td>2.587145</td>\n",
       "      <td>1.832854</td>\n",
       "      <td>4.222567</td>\n",
       "      <td>13.862251</td>\n",
       "      <td>...</td>\n",
       "      <td>3.028453</td>\n",
       "      <td>68.503185</td>\n",
       "      <td>19.512436</td>\n",
       "      <td>2019.480493</td>\n",
       "      <td>15.193997</td>\n",
       "      <td>22.650066</td>\n",
       "      <td>1.401109</td>\n",
       "      <td>1.003212</td>\n",
       "      <td>0.501280</td>\n",
       "      <td>0.498720</td>\n",
       "    </tr>\n",
       "    <tr>\n",
       "      <th>std</th>\n",
       "      <td>3.829021</td>\n",
       "      <td>8.327157</td>\n",
       "      <td>1.989410</td>\n",
       "      <td>4.019386</td>\n",
       "      <td>1.070262</td>\n",
       "      <td>16.761335</td>\n",
       "      <td>2.591994</td>\n",
       "      <td>1.275022</td>\n",
       "      <td>2.905781</td>\n",
       "      <td>14.040226</td>\n",
       "      <td>...</td>\n",
       "      <td>3.124587</td>\n",
       "      <td>62.432027</td>\n",
       "      <td>11.070877</td>\n",
       "      <td>0.499635</td>\n",
       "      <td>13.767498</td>\n",
       "      <td>19.194452</td>\n",
       "      <td>1.159901</td>\n",
       "      <td>0.998293</td>\n",
       "      <td>0.500014</td>\n",
       "      <td>0.500014</td>\n",
       "    </tr>\n",
       "    <tr>\n",
       "      <th>min</th>\n",
       "      <td>0.690000</td>\n",
       "      <td>0.000000</td>\n",
       "      <td>-7.200000</td>\n",
       "      <td>-10.700000</td>\n",
       "      <td>-7.380000</td>\n",
       "      <td>1.000000</td>\n",
       "      <td>1.000000</td>\n",
       "      <td>1.000000</td>\n",
       "      <td>1.000000</td>\n",
       "      <td>1.000000</td>\n",
       "      <td>...</td>\n",
       "      <td>1.000000</td>\n",
       "      <td>1.000000</td>\n",
       "      <td>1.000000</td>\n",
       "      <td>2019.000000</td>\n",
       "      <td>1.000000</td>\n",
       "      <td>1.000000</td>\n",
       "      <td>0.000000</td>\n",
       "      <td>0.000000</td>\n",
       "      <td>0.000000</td>\n",
       "      <td>0.000000</td>\n",
       "    </tr>\n",
       "    <tr>\n",
       "      <th>25%</th>\n",
       "      <td>4.480000</td>\n",
       "      <td>5.000000</td>\n",
       "      <td>1.880000</td>\n",
       "      <td>0.000000</td>\n",
       "      <td>-0.440000</td>\n",
       "      <td>6.000000</td>\n",
       "      <td>1.000000</td>\n",
       "      <td>1.000000</td>\n",
       "      <td>2.000000</td>\n",
       "      <td>4.000000</td>\n",
       "      <td>...</td>\n",
       "      <td>1.000000</td>\n",
       "      <td>23.000000</td>\n",
       "      <td>10.000000</td>\n",
       "      <td>2019.000000</td>\n",
       "      <td>5.000000</td>\n",
       "      <td>8.000000</td>\n",
       "      <td>1.000000</td>\n",
       "      <td>0.000000</td>\n",
       "      <td>0.000000</td>\n",
       "      <td>0.000000</td>\n",
       "    </tr>\n",
       "    <tr>\n",
       "      <th>50%</th>\n",
       "      <td>6.710000</td>\n",
       "      <td>11.000000</td>\n",
       "      <td>2.940000</td>\n",
       "      <td>1.900000</td>\n",
       "      <td>0.000000</td>\n",
       "      <td>14.000000</td>\n",
       "      <td>2.000000</td>\n",
       "      <td>1.000000</td>\n",
       "      <td>4.000000</td>\n",
       "      <td>9.000000</td>\n",
       "      <td>...</td>\n",
       "      <td>2.000000</td>\n",
       "      <td>50.000000</td>\n",
       "      <td>19.000000</td>\n",
       "      <td>2019.000000</td>\n",
       "      <td>11.000000</td>\n",
       "      <td>17.000000</td>\n",
       "      <td>1.000000</td>\n",
       "      <td>1.000000</td>\n",
       "      <td>1.000000</td>\n",
       "      <td>0.000000</td>\n",
       "    </tr>\n",
       "    <tr>\n",
       "      <th>75%</th>\n",
       "      <td>9.610000</td>\n",
       "      <td>18.000000</td>\n",
       "      <td>4.080000</td>\n",
       "      <td>4.900000</td>\n",
       "      <td>0.500000</td>\n",
       "      <td>27.000000</td>\n",
       "      <td>3.000000</td>\n",
       "      <td>2.000000</td>\n",
       "      <td>6.000000</td>\n",
       "      <td>19.000000</td>\n",
       "      <td>...</td>\n",
       "      <td>4.000000</td>\n",
       "      <td>94.000000</td>\n",
       "      <td>29.000000</td>\n",
       "      <td>2020.000000</td>\n",
       "      <td>21.000000</td>\n",
       "      <td>33.000000</td>\n",
       "      <td>2.000000</td>\n",
       "      <td>2.000000</td>\n",
       "      <td>1.000000</td>\n",
       "      <td>1.000000</td>\n",
       "    </tr>\n",
       "    <tr>\n",
       "      <th>max</th>\n",
       "      <td>26.220000</td>\n",
       "      <td>38.000000</td>\n",
       "      <td>22.700000</td>\n",
       "      <td>37.700000</td>\n",
       "      <td>14.520000</td>\n",
       "      <td>121.000000</td>\n",
       "      <td>25.000000</td>\n",
       "      <td>13.000000</td>\n",
       "      <td>15.000000</td>\n",
       "      <td>147.000000</td>\n",
       "      <td>...</td>\n",
       "      <td>24.000000</td>\n",
       "      <td>394.000000</td>\n",
       "      <td>38.000000</td>\n",
       "      <td>2020.000000</td>\n",
       "      <td>94.000000</td>\n",
       "      <td>123.000000</td>\n",
       "      <td>6.000000</td>\n",
       "      <td>5.000000</td>\n",
       "      <td>1.000000</td>\n",
       "      <td>1.000000</td>\n",
       "    </tr>\n",
       "  </tbody>\n",
       "</table>\n",
       "<p>8 rows × 31 columns</p>\n",
       "</div>"
      ],
      "text/plain": [
       "              Preço             J         Média    Últ. Pont.      Variação  \\\n",
       "count  16404.000000  16404.000000  16404.000000  16404.000000  16404.000000   \n",
       "mean       7.325429     12.265301      3.073508      2.910665      0.064092   \n",
       "std        3.829021      8.327157      1.989410      4.019386      1.070262   \n",
       "min        0.690000      0.000000     -7.200000    -10.700000     -7.380000   \n",
       "25%        4.480000      5.000000      1.880000      0.000000     -0.440000   \n",
       "50%        6.710000     11.000000      2.940000      1.900000      0.000000   \n",
       "75%        9.610000     18.000000      4.080000      4.900000      0.500000   \n",
       "max       26.220000     38.000000     22.700000     37.700000     14.520000   \n",
       "\n",
       "                DS            G            A           SG            FS  ...  \\\n",
       "count  6471.000000  6581.000000  5905.000000  5805.000000  13844.000000  ...   \n",
       "mean     19.033071     2.587145     1.832854     4.222567     13.862251  ...   \n",
       "std      16.761335     2.591994     1.275022     2.905781     14.040226  ...   \n",
       "min       1.000000     1.000000     1.000000     1.000000      1.000000  ...   \n",
       "25%       6.000000     1.000000     1.000000     2.000000      4.000000  ...   \n",
       "50%      14.000000     2.000000     1.000000     4.000000      9.000000  ...   \n",
       "75%      27.000000     3.000000     2.000000     6.000000     19.000000  ...   \n",
       "max     121.000000    25.000000    13.000000    15.000000    147.000000  ...   \n",
       "\n",
       "                 I           PI        rodada           ano           RB  \\\n",
       "count  6010.000000  7065.000000  16404.000000  16404.000000  6830.000000   \n",
       "mean      3.028453    68.503185     19.512436   2019.480493    15.193997   \n",
       "std       3.124587    62.432027     11.070877      0.499635    13.767498   \n",
       "min       1.000000     1.000000      1.000000   2019.000000     1.000000   \n",
       "25%       1.000000    23.000000     10.000000   2019.000000     5.000000   \n",
       "50%       2.000000    50.000000     19.000000   2019.000000    11.000000   \n",
       "75%       4.000000    94.000000     29.000000   2020.000000    21.000000   \n",
       "max      24.000000   394.000000     38.000000   2020.000000    94.000000   \n",
       "\n",
       "                PE  placar_mandante  placar_visitante    e_mandante  \\\n",
       "count  7530.000000     15876.000000      15876.000000  16404.000000   \n",
       "mean     22.650066         1.401109          1.003212      0.501280   \n",
       "std      19.194452         1.159901          0.998293      0.500014   \n",
       "min       1.000000         0.000000          0.000000      0.000000   \n",
       "25%       8.000000         1.000000          0.000000      0.000000   \n",
       "50%      17.000000         1.000000          1.000000      1.000000   \n",
       "75%      33.000000         2.000000          2.000000      1.000000   \n",
       "max     123.000000         6.000000          5.000000      1.000000   \n",
       "\n",
       "        e_visitante  \n",
       "count  16404.000000  \n",
       "mean       0.498720  \n",
       "std        0.500014  \n",
       "min        0.000000  \n",
       "25%        0.000000  \n",
       "50%        0.000000  \n",
       "75%        1.000000  \n",
       "max        1.000000  \n",
       "\n",
       "[8 rows x 31 columns]"
      ]
     },
     "execution_count": 12,
     "metadata": {},
     "output_type": "execute_result"
    }
   ],
   "source": [
    "scouts.describe()"
   ]
  },
  {
   "cell_type": "code",
   "execution_count": 13,
   "id": "80247713",
   "metadata": {},
   "outputs": [
    {
     "data": {
      "image/png": "[encoded data removed]",
      "text/plain": [
       "<Figure size 1440x1080 with 36 Axes>"
      ]
     },
     "metadata": {
      "needs_background": "light"
     },
     "output_type": "display_data"
    }
   ],
   "source": [
    "%matplotlib inline\n",
    "import matplotlib.pyplot as plt\n",
    "scouts.hist(bins=50, figsize=(20, 15))\n",
    "plt.show()"
   ]
  },
  {
   "cell_type": "code",
   "execution_count": 14,
   "id": "e02191f6",
   "metadata": {},
   "outputs": [
    {
     "data": {
      "text/plain": [
       "3313"
      ]
     },
     "execution_count": 14,
     "metadata": {},
     "output_type": "execute_result"
    }
   ],
   "source": [
    "import numpy as np \n",
    "np.sum((scouts[\"ano\"] == 2020) & (scouts[\"rodada\"] > 22))\n",
    "\n",
    "#afim de dividir os conjuntos de teste e treino em 20% e 80% respec.\n",
    "#observa-se que o número de linhas que satisfaz a condição é a partir da rodada 22\n",
    "#OBS= total 16404 - 20% 3280"
   ]
  },
  {
   "cell_type": "code",
   "execution_count": 15,
   "id": "789dbe99",
   "metadata": {},
   "outputs": [],
   "source": [
    "#split in train and test data\n",
    "\n",
    "train_set = scouts[(scouts[\"ano\"] == 2019) | ((scouts[\"ano\"] == 2020) & (scouts[\"rodada\"] < 23))]\n",
    "test_set = scouts[(scouts[\"ano\"] == 2020) & (scouts[\"rodada\"] > 22)]"
   ]
  },
  {
   "cell_type": "markdown",
   "id": "6c1fd87f",
   "metadata": {},
   "source": [
    "# Discover and visualize data to gain insights"
   ]
  },
  {
   "cell_type": "code",
   "execution_count": 16,
   "id": "b3e84cfd",
   "metadata": {},
   "outputs": [],
   "source": [
    "scouts = train_set.copy()"
   ]
  },
  {
   "cell_type": "code",
   "execution_count": 17,
   "id": "8b25f2e6",
   "metadata": {},
   "outputs": [
    {
     "data": {
      "text/plain": [
       "<AxesSubplot:xlabel='Preço', ylabel='Últ. Pont.'>"
      ]
     },
     "execution_count": 17,
     "metadata": {},
     "output_type": "execute_result"
    },
    {
     "data": {
      "image/png": "[encoded data removed]",
      "text/plain": [
       "<Figure size 432x288 with 1 Axes>"
      ]
     },
     "metadata": {
      "needs_background": "light"
     },
     "output_type": "display_data"
    }
   ],
   "source": [
    "scouts.plot(kind=\"scatter\", x=\"Preço\", y=\"Últ. Pont.\")"
   ]
  },
  {
   "cell_type": "code",
   "execution_count": 18,
   "id": "81e07359",
   "metadata": {},
   "outputs": [
    {
     "data": {
      "text/plain": [
       "<AxesSubplot:xlabel='Preço', ylabel='Últ. Pont.'>"
      ]
     },
     "execution_count": 18,
     "metadata": {},
     "output_type": "execute_result"
    },
    {
     "data": {
      "image/png": "[encoded data removed]",
      "text/plain": [
       "<Figure size 432x288 with 1 Axes>"
      ]
     },
     "metadata": {
      "needs_background": "light"
     },
     "output_type": "display_data"
    }
   ],
   "source": [
    "scouts.plot(kind=\"scatter\", x=\"Preço\", y=\"Últ. Pont.\", alpha=0.1)"
   ]
  },
  {
   "cell_type": "code",
   "execution_count": 19,
   "id": "f9c23fc0",
   "metadata": {},
   "outputs": [
    {
     "data": {
      "text/plain": [
       "<AxesSubplot:xlabel='Preço', ylabel='Últ. Pont.'>"
      ]
     },
     "execution_count": 19,
     "metadata": {},
     "output_type": "execute_result"
    },
    {
     "data": {
      "image/png": "[encoded data removed]",
      "text/plain": [
       "<Figure size 432x288 with 1 Axes>"
      ]
     },
     "metadata": {
      "needs_background": "light"
     },
     "output_type": "display_data"
    }
   ],
   "source": [
    "scouts.plot(kind=\"scatter\", x=\"Preço\", y=\"Últ. Pont.\",alpha=0.1)"
   ]
  },
  {
   "cell_type": "code",
   "execution_count": 20,
   "id": "de65890f",
   "metadata": {},
   "outputs": [
    {
     "data": {
      "text/plain": [
       "<AxesSubplot:xlabel='Média', ylabel='Últ. Pont.'>"
      ]
     },
     "execution_count": 20,
     "metadata": {},
     "output_type": "execute_result"
    },
    {
     "data": {
      "image/png": "[encoded data removed]",
      "text/plain": [
       "<Figure size 432x288 with 1 Axes>"
      ]
     },
     "metadata": {
      "needs_background": "light"
     },
     "output_type": "display_data"
    }
   ],
   "source": [
    "scouts.plot(kind=\"scatter\", x=\"Média\", y=\"Últ. Pont.\", alpha=0.1,)"
   ]
  },
  {
   "cell_type": "code",
   "execution_count": 21,
   "id": "ddd2cbee",
   "metadata": {
    "scrolled": false
   },
   "outputs": [
    {
     "name": "stderr",
     "output_type": "stream",
     "text": [
      "/home/carlos/.local/lib/python3.8/site-packages/matplotlib/collections.py:1003: RuntimeWarning: invalid value encountered in sqrt\n",
      "  scale = np.sqrt(self._sizes) * dpi / 72.0 * self._factor\n"
     ]
    },
    {
     "data": {
      "text/plain": [
       "<AxesSubplot:xlabel='Variação', ylabel='Últ. Pont.'>"
      ]
     },
     "execution_count": 21,
     "metadata": {},
     "output_type": "execute_result"
    },
    {
     "data": {
      "image/png": "[encoded data removed]",
      "text/plain": [
       "<Figure size 720x504 with 1 Axes>"
      ]
     },
     "metadata": {
      "needs_background": "light"
     },
     "output_type": "display_data"
    }
   ],
   "source": [
    "scouts.plot(kind=\"scatter\", x=\"Variação\", y=\"Últ. Pont.\", alpha=0.4, s=scouts[\"Média\"]/0.1, label =\"Média\", figsize=(10,7))"
   ]
  },
  {
   "cell_type": "markdown",
   "id": "77f96160",
   "metadata": {},
   "source": [
    "### Searching for correlations"
   ]
  },
  {
   "cell_type": "code",
   "execution_count": 22,
   "id": "87ffdbd3",
   "metadata": {},
   "outputs": [],
   "source": [
    "corr_matrix = scouts.corr()"
   ]
  },
  {
   "cell_type": "code",
   "execution_count": 23,
   "id": "ef616fc6",
   "metadata": {},
   "outputs": [
    {
     "data": {
      "text/plain": [
       "Últ. Pont.          1.000000\n",
       "Variação            0.736462\n",
       "Média               0.479507\n",
       "Preço               0.363626\n",
       "G                   0.157141\n",
       "DP                  0.149756\n",
       "FT                  0.120189\n",
       "FD                  0.110644\n",
       "A                   0.106988\n",
       "FF                  0.106941\n",
       "e_mandante          0.103193\n",
       "DD                  0.100431\n",
       "I                   0.091174\n",
       "FS                  0.079453\n",
       "J                   0.052013\n",
       "SG                  0.049335\n",
       "DS                  0.044129\n",
       "RB                  0.040724\n",
       "GS                  0.032720\n",
       "GC                  0.031693\n",
       "placar_mandante     0.027771\n",
       "PI                  0.014039\n",
       "CV                  0.012369\n",
       "PE                  0.012350\n",
       "rodada              0.010298\n",
       "PP                  0.003684\n",
       "FC                  0.001577\n",
       "CA                 -0.011312\n",
       "placar_visitante   -0.025624\n",
       "ano                -0.057067\n",
       "e_visitante        -0.103193\n",
       "Name: Últ. Pont., dtype: float64"
      ]
     },
     "execution_count": 23,
     "metadata": {},
     "output_type": "execute_result"
    }
   ],
   "source": [
    "corr_matrix[\"Últ. Pont.\"].sort_values(ascending=False)"
   ]
  },
  {
   "cell_type": "markdown",
   "id": "f79f5179",
   "metadata": {},
   "source": [
    "### trying new attr"
   ]
  },
  {
   "cell_type": "code",
   "execution_count": 24,
   "id": "600ea6ff",
   "metadata": {},
   "outputs": [],
   "source": [
    "scouts[\"A_por_jogo\"]= scouts[\"A\"] / scouts[\"J\"]\n",
    "scouts[\"SG_por_jogo\"] = scouts[\"SG\"] / scouts[\"J\"]\n",
    "scouts[\"DS_por_jogo\"] = scouts[\"DS\"] / scouts[\"J\"]\n",
    "scouts[\"DD_por_jogo\"] = scouts[\"DD\"] / scouts[\"J\"]\n",
    "scouts[\"G_por_jogo\"] = scouts[\"DD\"] / scouts[\"J\"]"
   ]
  },
  {
   "cell_type": "code",
   "execution_count": 25,
   "id": "222438e9",
   "metadata": {},
   "outputs": [
    {
     "data": {
      "text/plain": [
       "Últ. Pont.          1.000000\n",
       "Variação            0.736462\n",
       "Média               0.479507\n",
       "Preço               0.363626\n",
       "DD_por_jogo         0.329000\n",
       "G_por_jogo          0.329000\n",
       "SG_por_jogo         0.204510\n",
       "A_por_jogo          0.176706\n",
       "G                   0.157141\n",
       "DP                  0.149756\n",
       "DS_por_jogo         0.124059\n",
       "FT                  0.120189\n",
       "FD                  0.110644\n",
       "A                   0.106988\n",
       "FF                  0.106941\n",
       "e_mandante          0.103193\n",
       "DD                  0.100431\n",
       "I                   0.091174\n",
       "FS                  0.079453\n",
       "J                   0.052013\n",
       "SG                  0.049335\n",
       "DS                  0.044129\n",
       "RB                  0.040724\n",
       "GS                  0.032720\n",
       "GC                  0.031693\n",
       "placar_mandante     0.027771\n",
       "PI                  0.014039\n",
       "CV                  0.012369\n",
       "PE                  0.012350\n",
       "rodada              0.010298\n",
       "PP                  0.003684\n",
       "FC                  0.001577\n",
       "CA                 -0.011312\n",
       "placar_visitante   -0.025624\n",
       "ano                -0.057067\n",
       "e_visitante        -0.103193\n",
       "Name: Últ. Pont., dtype: float64"
      ]
     },
     "execution_count": 25,
     "metadata": {},
     "output_type": "execute_result"
    }
   ],
   "source": [
    "corr_matrix = scouts.corr()\n",
    "corr_matrix[\"Últ. Pont.\"].sort_values(ascending=False)"
   ]
  },
  {
   "cell_type": "markdown",
   "id": "0242d334",
   "metadata": {},
   "source": [
    "# Order data for AM algoritms"
   ]
  },
  {
   "cell_type": "code",
   "execution_count": 26,
   "id": "430e3351",
   "metadata": {},
   "outputs": [],
   "source": [
    "scouts = train_set.drop(\"Últ. Pont.\", axis=1)\n",
    "scouts_labels = train_set[\"Últ. Pont.\"].copy()\n",
    "scouts_players_name = train_set[\"Nome\"].copy()"
   ]
  },
  {
   "cell_type": "markdown",
   "id": "bc5a44be",
   "metadata": {},
   "source": [
    "### cleaning the data"
   ]
  },
  {
   "cell_type": "code",
   "execution_count": 27,
   "id": "519106ec",
   "metadata": {},
   "outputs": [
    {
     "name": "stdout",
     "output_type": "stream",
     "text": [
      "<class 'pandas.core.frame.DataFrame'>\n",
      "Int64Index: 13091 entries, 0 to 16403\n",
      "Data columns (total 37 columns):\n",
      " #   Column            Non-Null Count  Dtype  \n",
      "---  ------            --------------  -----  \n",
      " 0   Nome              13091 non-null  object \n",
      " 1   Clube             13091 non-null  object \n",
      " 2   Preço             13091 non-null  float64\n",
      " 3   J                 13091 non-null  float64\n",
      " 4   Média             13091 non-null  float64\n",
      " 5   Variação          13091 non-null  float64\n",
      " 6   DS                3607 non-null   float64\n",
      " 7   G                 4894 non-null   float64\n",
      " 8   A                 4246 non-null   float64\n",
      " 9   SG                4460 non-null   float64\n",
      " 10  FS                10877 non-null  float64\n",
      " 11  FF                8819 non-null   float64\n",
      " 12  FD                7854 non-null   float64\n",
      " 13  FT                2052 non-null   float64\n",
      " 14  DD                1062 non-null   float64\n",
      " 15  DP                306 non-null    float64\n",
      " 16  GC                265 non-null    float64\n",
      " 17  CV                891 non-null    float64\n",
      " 18  CA                7944 non-null   float64\n",
      " 19  PP                374 non-null    float64\n",
      " 20  GS                1078 non-null   float64\n",
      " 21  FC                10497 non-null  float64\n",
      " 22  I                 4468 non-null   float64\n",
      " 23  PI                4055 non-null   float64\n",
      " 24  rodada            13091 non-null  int64  \n",
      " 25  ano               13091 non-null  int64  \n",
      " 26  RB                6830 non-null   float64\n",
      " 27  PE                7530 non-null   float64\n",
      " 28  mandante          13091 non-null  object \n",
      " 29  visitante         13091 non-null  object \n",
      " 30  placar_mandante   12700 non-null  float64\n",
      " 31  placar_visitante  12700 non-null  float64\n",
      " 32  data              13091 non-null  object \n",
      " 33  local             13091 non-null  object \n",
      " 34  Posicao           13091 non-null  object \n",
      " 35  e_mandante        13091 non-null  int64  \n",
      " 36  e_visitante       13091 non-null  int64  \n",
      "dtypes: float64(26), int64(4), object(7)\n",
      "memory usage: 3.8+ MB\n"
     ]
    }
   ],
   "source": [
    "scouts.info()"
   ]
  },
  {
   "cell_type": "code",
   "execution_count": 28,
   "id": "95037099",
   "metadata": {},
   "outputs": [],
   "source": [
    "#remember there are three option here.\n",
    "\n",
    "try:\n",
    "    from sklearn.impute import SimpleImputer # Scikit-Learn 0.20+\n",
    "except ImportError:\n",
    "    from sklearn.preprocessing import Imputer as SimpleImputer\n",
    "\n",
    "imputer = SimpleImputer(strategy='constant', fill_value=0)"
   ]
  },
  {
   "cell_type": "code",
   "execution_count": 29,
   "id": "bd675d86",
   "metadata": {},
   "outputs": [
    {
     "data": {
      "text/html": [
       "<div>\n",
       "<style scoped>\n",
       "    .dataframe tbody tr th:only-of-type {\n",
       "        vertical-align: middle;\n",
       "    }\n",
       "\n",
       "    .dataframe tbody tr th {\n",
       "        vertical-align: top;\n",
       "    }\n",
       "\n",
       "    .dataframe thead th {\n",
       "        text-align: right;\n",
       "    }\n",
       "</style>\n",
       "<table border=\"1\" class=\"dataframe\">\n",
       "  <thead>\n",
       "    <tr style=\"text-align: right;\">\n",
       "      <th></th>\n",
       "      <th>Preço</th>\n",
       "      <th>J</th>\n",
       "      <th>Média</th>\n",
       "      <th>Variação</th>\n",
       "      <th>DS</th>\n",
       "      <th>G</th>\n",
       "      <th>A</th>\n",
       "      <th>SG</th>\n",
       "      <th>FS</th>\n",
       "      <th>FF</th>\n",
       "      <th>...</th>\n",
       "      <th>GS</th>\n",
       "      <th>FC</th>\n",
       "      <th>I</th>\n",
       "      <th>PI</th>\n",
       "      <th>rodada</th>\n",
       "      <th>ano</th>\n",
       "      <th>RB</th>\n",
       "      <th>PE</th>\n",
       "      <th>e_mandante</th>\n",
       "      <th>e_visitante</th>\n",
       "    </tr>\n",
       "  </thead>\n",
       "  <tbody>\n",
       "    <tr>\n",
       "      <th>0</th>\n",
       "      <td>14.21</td>\n",
       "      <td>1.0</td>\n",
       "      <td>15.60</td>\n",
       "      <td>10.21</td>\n",
       "      <td>NaN</td>\n",
       "      <td>2.0</td>\n",
       "      <td>NaN</td>\n",
       "      <td>NaN</td>\n",
       "      <td>NaN</td>\n",
       "      <td>NaN</td>\n",
       "      <td>...</td>\n",
       "      <td>NaN</td>\n",
       "      <td>1.0</td>\n",
       "      <td>1.0</td>\n",
       "      <td>4.0</td>\n",
       "      <td>1</td>\n",
       "      <td>2020</td>\n",
       "      <td>NaN</td>\n",
       "      <td>NaN</td>\n",
       "      <td>1</td>\n",
       "      <td>0</td>\n",
       "    </tr>\n",
       "    <tr>\n",
       "      <th>1</th>\n",
       "      <td>11.96</td>\n",
       "      <td>1.0</td>\n",
       "      <td>9.50</td>\n",
       "      <td>4.96</td>\n",
       "      <td>NaN</td>\n",
       "      <td>1.0</td>\n",
       "      <td>NaN</td>\n",
       "      <td>NaN</td>\n",
       "      <td>3.0</td>\n",
       "      <td>1.0</td>\n",
       "      <td>...</td>\n",
       "      <td>NaN</td>\n",
       "      <td>1.0</td>\n",
       "      <td>NaN</td>\n",
       "      <td>3.0</td>\n",
       "      <td>1</td>\n",
       "      <td>2020</td>\n",
       "      <td>NaN</td>\n",
       "      <td>NaN</td>\n",
       "      <td>1</td>\n",
       "      <td>0</td>\n",
       "    </tr>\n",
       "    <tr>\n",
       "      <th>2</th>\n",
       "      <td>7.46</td>\n",
       "      <td>1.0</td>\n",
       "      <td>5.30</td>\n",
       "      <td>2.46</td>\n",
       "      <td>1.0</td>\n",
       "      <td>NaN</td>\n",
       "      <td>1.0</td>\n",
       "      <td>NaN</td>\n",
       "      <td>NaN</td>\n",
       "      <td>1.0</td>\n",
       "      <td>...</td>\n",
       "      <td>NaN</td>\n",
       "      <td>NaN</td>\n",
       "      <td>1.0</td>\n",
       "      <td>10.0</td>\n",
       "      <td>1</td>\n",
       "      <td>2020</td>\n",
       "      <td>NaN</td>\n",
       "      <td>NaN</td>\n",
       "      <td>1</td>\n",
       "      <td>0</td>\n",
       "    </tr>\n",
       "    <tr>\n",
       "      <th>3</th>\n",
       "      <td>4.65</td>\n",
       "      <td>1.0</td>\n",
       "      <td>4.42</td>\n",
       "      <td>2.65</td>\n",
       "      <td>NaN</td>\n",
       "      <td>NaN</td>\n",
       "      <td>NaN</td>\n",
       "      <td>NaN</td>\n",
       "      <td>NaN</td>\n",
       "      <td>NaN</td>\n",
       "      <td>...</td>\n",
       "      <td>NaN</td>\n",
       "      <td>NaN</td>\n",
       "      <td>NaN</td>\n",
       "      <td>NaN</td>\n",
       "      <td>1</td>\n",
       "      <td>2020</td>\n",
       "      <td>NaN</td>\n",
       "      <td>NaN</td>\n",
       "      <td>1</td>\n",
       "      <td>0</td>\n",
       "    </tr>\n",
       "    <tr>\n",
       "      <th>4</th>\n",
       "      <td>8.19</td>\n",
       "      <td>1.0</td>\n",
       "      <td>4.30</td>\n",
       "      <td>1.19</td>\n",
       "      <td>4.0</td>\n",
       "      <td>NaN</td>\n",
       "      <td>NaN</td>\n",
       "      <td>NaN</td>\n",
       "      <td>3.0</td>\n",
       "      <td>NaN</td>\n",
       "      <td>...</td>\n",
       "      <td>NaN</td>\n",
       "      <td>1.0</td>\n",
       "      <td>NaN</td>\n",
       "      <td>7.0</td>\n",
       "      <td>1</td>\n",
       "      <td>2020</td>\n",
       "      <td>NaN</td>\n",
       "      <td>NaN</td>\n",
       "      <td>1</td>\n",
       "      <td>0</td>\n",
       "    </tr>\n",
       "  </tbody>\n",
       "</table>\n",
       "<p>5 rows × 28 columns</p>\n",
       "</div>"
      ],
      "text/plain": [
       "   Preço    J  Média  Variação   DS    G    A  SG   FS   FF  ...  GS   FC  \\\n",
       "0  14.21  1.0  15.60     10.21  NaN  2.0  NaN NaN  NaN  NaN  ... NaN  1.0   \n",
       "1  11.96  1.0   9.50      4.96  NaN  1.0  NaN NaN  3.0  1.0  ... NaN  1.0   \n",
       "2   7.46  1.0   5.30      2.46  1.0  NaN  1.0 NaN  NaN  1.0  ... NaN  NaN   \n",
       "3   4.65  1.0   4.42      2.65  NaN  NaN  NaN NaN  NaN  NaN  ... NaN  NaN   \n",
       "4   8.19  1.0   4.30      1.19  4.0  NaN  NaN NaN  3.0  NaN  ... NaN  1.0   \n",
       "\n",
       "     I    PI  rodada   ano  RB  PE  e_mandante  e_visitante  \n",
       "0  1.0   4.0       1  2020 NaN NaN           1            0  \n",
       "1  NaN   3.0       1  2020 NaN NaN           1            0  \n",
       "2  1.0  10.0       1  2020 NaN NaN           1            0  \n",
       "3  NaN   NaN       1  2020 NaN NaN           1            0  \n",
       "4  NaN   7.0       1  2020 NaN NaN           1            0  \n",
       "\n",
       "[5 rows x 28 columns]"
      ]
     },
     "execution_count": 29,
     "metadata": {},
     "output_type": "execute_result"
    }
   ],
   "source": [
    "scouts_num = scouts.drop(\"Posicao\", axis=1).drop(\"Nome\", axis=1).drop(\"Clube\", axis=1).drop(\"placar_mandante\", axis=1).drop(\"placar_visitante\", axis=1).drop(\"mandante\", axis=1).drop(\"visitante\", axis=1).drop(\"data\", axis=1).drop(\"local\", axis=1)\n",
    "scouts_num.head()"
   ]
  },
  {
   "cell_type": "code",
   "execution_count": 30,
   "id": "9d1528b0",
   "metadata": {},
   "outputs": [
    {
     "data": {
      "text/plain": [
       "SimpleImputer(fill_value=0, strategy='constant')"
      ]
     },
     "execution_count": 30,
     "metadata": {},
     "output_type": "execute_result"
    }
   ],
   "source": [
    "imputer.fit(scouts_num)"
   ]
  },
  {
   "cell_type": "code",
   "execution_count": 31,
   "id": "97b876a5",
   "metadata": {},
   "outputs": [
    {
     "data": {
      "text/plain": [
       "array([0., 0., 0., 0., 0., 0., 0., 0., 0., 0., 0., 0., 0., 0., 0., 0., 0.,\n",
       "       0., 0., 0., 0., 0., 0., 0., 0., 0., 0., 0.])"
      ]
     },
     "execution_count": 31,
     "metadata": {},
     "output_type": "execute_result"
    }
   ],
   "source": [
    "imputer.statistics_"
   ]
  },
  {
   "cell_type": "code",
   "execution_count": 32,
   "id": "3d2de8b9",
   "metadata": {},
   "outputs": [],
   "source": [
    "X = imputer.transform(scouts_num)"
   ]
  },
  {
   "cell_type": "code",
   "execution_count": 33,
   "id": "64e3330b",
   "metadata": {},
   "outputs": [],
   "source": [
    "scouts_tr = pd.DataFrame(X, columns=scouts_num.columns)"
   ]
  },
  {
   "cell_type": "code",
   "execution_count": 34,
   "id": "bbd16bd2",
   "metadata": {},
   "outputs": [
    {
     "data": {
      "text/plain": [
       "(13091, 28)"
      ]
     },
     "execution_count": 34,
     "metadata": {},
     "output_type": "execute_result"
    }
   ],
   "source": [
    "scouts_tr.shape"
   ]
  },
  {
   "cell_type": "markdown",
   "id": "75d1fb8d",
   "metadata": {},
   "source": [
    "### cat attr"
   ]
  },
  {
   "cell_type": "code",
   "execution_count": 35,
   "id": "5f860dde",
   "metadata": {},
   "outputs": [
    {
     "data": {
      "text/html": [
       "<div>\n",
       "<style scoped>\n",
       "    .dataframe tbody tr th:only-of-type {\n",
       "        vertical-align: middle;\n",
       "    }\n",
       "\n",
       "    .dataframe tbody tr th {\n",
       "        vertical-align: top;\n",
       "    }\n",
       "\n",
       "    .dataframe thead th {\n",
       "        text-align: right;\n",
       "    }\n",
       "</style>\n",
       "<table border=\"1\" class=\"dataframe\">\n",
       "  <thead>\n",
       "    <tr style=\"text-align: right;\">\n",
       "      <th></th>\n",
       "      <th>Posicao</th>\n",
       "    </tr>\n",
       "  </thead>\n",
       "  <tbody>\n",
       "    <tr>\n",
       "      <th>0</th>\n",
       "      <td>ATA</td>\n",
       "    </tr>\n",
       "    <tr>\n",
       "      <th>1</th>\n",
       "      <td>MEI</td>\n",
       "    </tr>\n",
       "    <tr>\n",
       "      <th>2</th>\n",
       "      <td>LAT</td>\n",
       "    </tr>\n",
       "    <tr>\n",
       "      <th>3</th>\n",
       "      <td>TEC</td>\n",
       "    </tr>\n",
       "    <tr>\n",
       "      <th>4</th>\n",
       "      <td>LAT</td>\n",
       "    </tr>\n",
       "    <tr>\n",
       "      <th>5</th>\n",
       "      <td>MEI</td>\n",
       "    </tr>\n",
       "    <tr>\n",
       "      <th>6</th>\n",
       "      <td>GOL</td>\n",
       "    </tr>\n",
       "    <tr>\n",
       "      <th>7</th>\n",
       "      <td>ZAG</td>\n",
       "    </tr>\n",
       "    <tr>\n",
       "      <th>8</th>\n",
       "      <td>MEI</td>\n",
       "    </tr>\n",
       "    <tr>\n",
       "      <th>9</th>\n",
       "      <td>LAT</td>\n",
       "    </tr>\n",
       "  </tbody>\n",
       "</table>\n",
       "</div>"
      ],
      "text/plain": [
       "  Posicao\n",
       "0     ATA\n",
       "1     MEI\n",
       "2     LAT\n",
       "3     TEC\n",
       "4     LAT\n",
       "5     MEI\n",
       "6     GOL\n",
       "7     ZAG\n",
       "8     MEI\n",
       "9     LAT"
      ]
     },
     "execution_count": 35,
     "metadata": {},
     "output_type": "execute_result"
    }
   ],
   "source": [
    "scouts_cat = scouts[[\"Posicao\"]]\n",
    "scouts_cat.head(10)"
   ]
  },
  {
   "cell_type": "code",
   "execution_count": 36,
   "id": "cb61c640",
   "metadata": {},
   "outputs": [
    {
     "data": {
      "text/plain": [
       "<13091x6 sparse matrix of type '<class 'numpy.float64'>'\n",
       "\twith 13091 stored elements in Compressed Sparse Row format>"
      ]
     },
     "execution_count": 36,
     "metadata": {},
     "output_type": "execute_result"
    }
   ],
   "source": [
    "from sklearn.preprocessing import OneHotEncoder\n",
    "\n",
    "cat_encoder = OneHotEncoder()\n",
    "scouts_cat_1hot = cat_encoder.fit_transform(scouts_cat)\n",
    "scouts_cat_1hot"
   ]
  },
  {
   "cell_type": "code",
   "execution_count": 37,
   "id": "90991672",
   "metadata": {},
   "outputs": [
    {
     "data": {
      "text/plain": [
       "array([[1., 0., 0., 0., 0., 0.],\n",
       "       [0., 0., 0., 1., 0., 0.],\n",
       "       [0., 0., 1., 0., 0., 0.],\n",
       "       ...,\n",
       "       [0., 0., 0., 0., 0., 1.],\n",
       "       [0., 0., 0., 1., 0., 0.],\n",
       "       [1., 0., 0., 0., 0., 0.]])"
      ]
     },
     "execution_count": 37,
     "metadata": {},
     "output_type": "execute_result"
    }
   ],
   "source": [
    "scouts_cat_1hot.toarray()"
   ]
  },
  {
   "cell_type": "code",
   "execution_count": 38,
   "id": "ae15257f",
   "metadata": {},
   "outputs": [
    {
     "data": {
      "text/plain": [
       "[array(['ATA', 'GOL', 'LAT', 'MEI', 'TEC', 'ZAG'], dtype=object)]"
      ]
     },
     "execution_count": 38,
     "metadata": {},
     "output_type": "execute_result"
    }
   ],
   "source": [
    "cat_encoder.categories_"
   ]
  },
  {
   "cell_type": "code",
   "execution_count": 39,
   "id": "5690cfc2",
   "metadata": {},
   "outputs": [],
   "source": [
    "#transformer for trying new attr said before\n",
    "\n",
    "from sklearn.base import BaseEstimator, TransformerMixin\n",
    "\n",
    "DS_ix, G_ix, A_ix, SG_ix, FS_ix, FF_ix, FD_ix, FT_ix, DD_ix, DP_ix, GC_ix, CV_ix, CA_ix, CP_ix, GS_ix, FC_ix, I_ix, PI_ix, RB_ix, PE_ix, J_ix = 3, 4, 5,6,7 ,8,9, 10,11,12,13,14,15,16,17,18,19,20,21,22,23\n",
    "\n",
    "class CombinedAttributesAdder(BaseEstimator, TransformerMixin):\n",
    "    def __init__(self, add_median_values = True): # sem *args ou **kargs\n",
    "        self.add_median_values = add_median_values\n",
    "    def fit(self, X, y=None):\n",
    "        return self \n",
    "    def transform(self, X, y=None):\n",
    "        if self.add_median_values:\n",
    "            DS_por_jogo = X[:, DS_ix] / X[:, J_ix]\n",
    "            G_por_jogo = X[:, G_ix] / X[:, J_ix]\n",
    "            A_por_jogo = X[:, A_ix] / X[:, J_ix]\n",
    "            SG_por_jogo = X[:, SG_ix] / X[:, J_ix]\n",
    "            FS_por_jogo = X[:, FS_ix] / X[:, J_ix]\n",
    "            FF_por_jogo = X[:, FF_ix] / X[:, J_ix]\n",
    "            FD_por_jogo = X[:, FD_ix] / X[:, J_ix]\n",
    "            FT_por_jogo = X[:, FT_ix] / X[:, J_ix]\n",
    "            DD_por_jogo = X[:, DD_ix] / X[:, J_ix]\n",
    "            DP_por_jogo = X[:, DP_ix] / X[:, J_ix]\n",
    "            GC_por_jogo = X[:, GC_ix] / X[:, J_ix]\n",
    "            CV_por_jogo = X[:, CV_ix] / X[:, J_ix]\n",
    "            CA_por_jogo = X[:, CA_ix] / X[:, J_ix]\n",
    "            CP_por_jogo = X[:, CP_ix] / X[:, J_ix]\n",
    "            GS_por_jogo = X[:, GS_ix] / X[:, J_ix]\n",
    "            FC_por_jogo = X[:, FC_ix] / X[:, J_ix]\n",
    "            I_por_jogo = X[:, I_ix] / X[:, J_ix]\n",
    "            PI_por_jogo = X[:, PI_ix] / X[:, J_ix]\n",
    "            RB_por_jogo = X[:, RB_ix] / X[:, J_ix]\n",
    "            PE_por_jogo = X[:, PE_ix] / X[:, J_ix]\n",
    "            return np.c_[X, DS_por_jogo, G_por_jogo, A_por_jogo, SG_por_jogo, FS_por_jogo, FF_por_jogo, FD_por_jogo,\n",
    "                        FT_por_jogo, DD_por_jogo, DP_por_jogo, GC_por_jogo, CV_por_jogo, CA_por_jogo, CP_por_jogo, \n",
    "                        GS_por_jogo, FC_por_jogo, I_por_jogo, PI_por_jogo, RB_por_jogo,PE_por_jogo]\n",
    "        else:\n",
    "            return np.c_[X]\n",
    "\n",
    "attr_adder = CombinedAttributesAdder(add_median_values=False)\n",
    "scouts_extra_attribs = attr_adder.transform(scouts.values)"
   ]
  },
  {
   "cell_type": "markdown",
   "id": "7f725738",
   "metadata": {},
   "source": [
    "### pipelines"
   ]
  },
  {
   "cell_type": "code",
   "execution_count": 40,
   "id": "91dd4be0",
   "metadata": {},
   "outputs": [],
   "source": [
    "from sklearn.pipeline import Pipeline\n",
    "from sklearn.preprocessing import StandardScaler\n",
    "\n",
    "num_pipeline = Pipeline([\n",
    "    ('imputer', SimpleImputer(strategy='constant', fill_value=0)),\n",
    "    ('attribs_adder', CombinedAttributesAdder()),\n",
    "    ('std_scaler', StandardScaler())\n",
    "])\n",
    "\n",
    "scouts_num_tr = num_pipeline.fit_transform(scouts_num)"
   ]
  },
  {
   "cell_type": "code",
   "execution_count": 41,
   "id": "fac22a5c",
   "metadata": {},
   "outputs": [],
   "source": [
    "from sklearn.base import BaseEstimator, TransformerMixin\n",
    "\n",
    "class DataframeSelector(BaseEstimator, TransformerMixin):\n",
    "    def __init__(self, attribute_names):\n",
    "        print(attribute_names)\n",
    "        self.attribute_names = attribute_names\n",
    "    def fit(self, X, y=None):\n",
    "        return self\n",
    "    def transform(self, X):\n",
    "        return X[self.attribute_names].values\n",
    "    "
   ]
  },
  {
   "cell_type": "code",
   "execution_count": 42,
   "id": "2e5ea84a",
   "metadata": {},
   "outputs": [
    {
     "name": "stdout",
     "output_type": "stream",
     "text": [
      "['Preço', 'J', 'Média', 'Variação', 'DS', 'G', 'A', 'SG', 'FS', 'FF', 'FD', 'FT', 'DD', 'DP', 'GC', 'CV', 'CA', 'PP', 'GS', 'FC', 'I', 'PI', 'rodada', 'ano', 'RB', 'PE', 'e_mandante', 'e_visitante']\n",
      "['Preço', 'J', 'Média', 'Variação', 'DS', 'G', 'A', 'SG', 'FS', 'FF', 'FD', 'FT', 'DD', 'DP', 'GC', 'CV', 'CA', 'PP', 'GS', 'FC', 'I', 'PI', 'rodada', 'ano', 'RB', 'PE', 'e_mandante', 'e_visitante']\n",
      "['Posicao']\n"
     ]
    }
   ],
   "source": [
    "num_attribs = list(scouts_num)\n",
    "cat_attribs = [\"Posicao\"]\n",
    "print(num_attribs)\n",
    "\n",
    "num_pipeline = Pipeline([\n",
    "    ('selector', DataframeSelector(num_attribs)),\n",
    "    ('imputer', SimpleImputer(strategy='constant', fill_value=0)),\n",
    "    ('attribs_adder', CombinedAttributesAdder()),\n",
    "    ('std_scaler', StandardScaler()),\n",
    "])\n",
    "\n",
    "cat_pipeline = Pipeline([\n",
    "    ('selector', DataframeSelector(cat_attribs)),\n",
    "    ('cat_encoder', OneHotEncoder(sparse=False))\n",
    "])"
   ]
  },
  {
   "cell_type": "code",
   "execution_count": 43,
   "id": "b8cfab4a",
   "metadata": {},
   "outputs": [],
   "source": [
    "from sklearn.pipeline import FeatureUnion\n",
    "\n",
    "full_pipeline = FeatureUnion(transformer_list=[\n",
    "    ('num_pipeline', num_pipeline),\n",
    "    ('cat_pipeline', cat_pipeline),\n",
    "])"
   ]
  },
  {
   "cell_type": "code",
   "execution_count": 44,
   "id": "c5299162",
   "metadata": {},
   "outputs": [
    {
     "data": {
      "text/plain": [
       "array([[ 1.74433173e+00, -1.24573642e+00,  5.94411877e+00, ...,\n",
       "         0.00000000e+00,  0.00000000e+00,  0.00000000e+00],\n",
       "       [ 1.16410299e+00, -1.24573642e+00,  3.03954273e+00, ...,\n",
       "         1.00000000e+00,  0.00000000e+00,  0.00000000e+00],\n",
       "       [ 3.64549459e-03, -1.24573642e+00,  1.03967070e+00, ...,\n",
       "         0.00000000e+00,  0.00000000e+00,  0.00000000e+00],\n",
       "       ...,\n",
       "       [-1.21354547e+00,  1.94531565e+00, -9.55439734e-01, ...,\n",
       "         0.00000000e+00,  0.00000000e+00,  1.00000000e+00],\n",
       "       [-9.63402415e-01,  1.05182107e+00, -1.06495654e+00, ...,\n",
       "         1.00000000e+00,  0.00000000e+00,  0.00000000e+00],\n",
       "       [-1.26254257e+00, -9.69576709e-02, -1.19351974e+00, ...,\n",
       "         0.00000000e+00,  0.00000000e+00,  0.00000000e+00]])"
      ]
     },
     "execution_count": 44,
     "metadata": {},
     "output_type": "execute_result"
    }
   ],
   "source": [
    "scouts_prepared = full_pipeline.fit_transform(scouts)\n",
    "scouts_prepared"
   ]
  },
  {
   "cell_type": "markdown",
   "id": "2c09b5a6",
   "metadata": {},
   "source": [
    "# SELECT A MODEL AND TRAIN 😎"
   ]
  },
  {
   "cell_type": "code",
   "execution_count": 45,
   "id": "c7e5eb09",
   "metadata": {},
   "outputs": [
    {
     "data": {
      "text/plain": [
       "LinearRegression()"
      ]
     },
     "execution_count": 45,
     "metadata": {},
     "output_type": "execute_result"
    }
   ],
   "source": [
    "from sklearn.linear_model import LinearRegression\n",
    "\n",
    "lin_reg = LinearRegression()\n",
    "lin_reg.fit(scouts_prepared, scouts_labels)"
   ]
  },
  {
   "cell_type": "code",
   "execution_count": 46,
   "id": "238edaa8",
   "metadata": {},
   "outputs": [
    {
     "name": "stdout",
     "output_type": "stream",
     "text": [
      "Predictions: [30.20846558 15.97515869  8.79370117  8.94567871  5.6506958   5.79412842\n",
      "  4.27987671  1.96951294  1.11990356  3.10559082]\n",
      "Labels: [15.6, 9.5, 5.3, 4.42, 4.3, 3.3, 2.5, 1.9, 1.8, 1.4]\n",
      "Player: ['Elton (ATA)', 'Jonatan Gomez (MEI)', 'Patric (LAT)', 'Daniel Paulista (TEC)', 'Sander (LAT)', 'Betinho (MEI)', 'Maílson (GOL)', 'Iago Maidana (ZAG)', 'Willian Farias (MEI)', 'Rafael Luiz (LAT)']\n"
     ]
    }
   ],
   "source": [
    "some_data = scouts.iloc[:10]\n",
    "some_labels = scouts_labels[:10]\n",
    "some_players_name = scouts_players_name[:10]\n",
    "some_data_prepared = full_pipeline.transform(some_data)\n",
    "print('Predictions:', lin_reg.predict(some_data_prepared))\n",
    "print('Labels:', list(some_labels))\n",
    "print('Player:', list(some_players_name))"
   ]
  },
  {
   "cell_type": "code",
   "execution_count": 47,
   "id": "4b053dec",
   "metadata": {},
   "outputs": [
    {
     "data": {
      "text/plain": [
       "2.420435359961579"
      ]
     },
     "execution_count": 47,
     "metadata": {},
     "output_type": "execute_result"
    }
   ],
   "source": [
    "# measure the RMSE\n",
    "from sklearn.metrics import mean_squared_error\n",
    "\n",
    "scouts_predictions = lin_reg.predict(scouts_prepared)\n",
    "lin_mse = mean_squared_error(scouts_labels, scouts_predictions)\n",
    "lin_rmse = np.sqrt(lin_mse)\n",
    "lin_rmse"
   ]
  },
  {
   "cell_type": "code",
   "execution_count": 48,
   "id": "8fa815fd",
   "metadata": {},
   "outputs": [
    {
     "data": {
      "text/plain": [
       "DecisionTreeRegressor()"
      ]
     },
     "execution_count": 48,
     "metadata": {},
     "output_type": "execute_result"
    }
   ],
   "source": [
    "from sklearn.tree import DecisionTreeRegressor\n",
    "\n",
    "tree_reg = DecisionTreeRegressor()\n",
    "tree_reg.fit(scouts_prepared, scouts_labels)"
   ]
  },
  {
   "cell_type": "code",
   "execution_count": 49,
   "id": "7248e9a5",
   "metadata": {},
   "outputs": [
    {
     "data": {
      "text/plain": [
       "2.0381105047920267e-17"
      ]
     },
     "execution_count": 49,
     "metadata": {},
     "output_type": "execute_result"
    }
   ],
   "source": [
    "scouts_predictions = tree_reg.predict(scouts_prepared)\n",
    "tree_mse = mean_squared_error(scouts_labels, scouts_predictions)\n",
    "tree_rmse = np.sqrt(tree_mse)\n",
    "tree_rmse"
   ]
  },
  {
   "cell_type": "markdown",
   "id": "317dea8a",
   "metadata": {},
   "source": [
    "## Evaluate with cross validation"
   ]
  },
  {
   "cell_type": "code",
   "execution_count": 50,
   "id": "691c6f6d",
   "metadata": {},
   "outputs": [],
   "source": [
    "from sklearn.model_selection import cross_val_score\n",
    "\n",
    "scores = cross_val_score(tree_reg, scouts_prepared, scouts_labels, scoring=\"neg_mean_squared_error\", cv=10)\n",
    "tree_rmse_scores = np.sqrt(-scores)"
   ]
  },
  {
   "cell_type": "code",
   "execution_count": 51,
   "id": "45359872",
   "metadata": {},
   "outputs": [
    {
     "name": "stdout",
     "output_type": "stream",
     "text": [
      "Scores [2.07258368 2.44292765 2.26030948 2.80292212 3.22372932 1.9575098\n",
      " 2.479386   2.15495811 2.63184541 2.9858712 ]\n",
      "Mean 2.5012042760701427\n",
      "Standard deviation 0.39066013785399206\n"
     ]
    }
   ],
   "source": [
    "def display_scores(scores):\n",
    "    print(\"Scores\", scores)\n",
    "    print(\"Mean\", scores.mean())\n",
    "    print(\"Standard deviation\", scores.std())\n",
    "display_scores(tree_rmse_scores)    "
   ]
  },
  {
   "cell_type": "code",
   "execution_count": 52,
   "id": "966b5093",
   "metadata": {},
   "outputs": [],
   "source": [
    "### see random forest algorithm"
   ]
  },
  {
   "cell_type": "code",
   "execution_count": 53,
   "id": "b9e5eadc",
   "metadata": {},
   "outputs": [
    {
     "name": "stdout",
     "output_type": "stream",
     "text": [
      "0.6676425784955006\n"
     ]
    }
   ],
   "source": [
    "from sklearn.ensemble import RandomForestRegressor\n",
    "\n",
    "forest_reg = RandomForestRegressor()\n",
    "forest_reg.fit(scouts_prepared, scouts_labels)\n",
    "\n",
    "scouts_predictions = forest_reg.predict(scouts_prepared)\n",
    "forest_mse = mean_squared_error(scouts_labels, scouts_predictions)\n",
    "forest_rmse = np.sqrt(forest_mse)\n",
    "print(forest_rmse)"
   ]
  },
  {
   "cell_type": "code",
   "execution_count": 54,
   "id": "71d52218",
   "metadata": {},
   "outputs": [
    {
     "name": "stdout",
     "output_type": "stream",
     "text": [
      "Scores [1.43493843 1.77595376 1.63331345 1.96036289 2.27062902 1.27191293\n",
      " 1.68962726 1.49659915 1.88173382 2.16598723]\n",
      "Mean 1.7581057933927084\n",
      "Standard deviation 0.302494050919434\n"
     ]
    }
   ],
   "source": [
    "#with cross validation\n",
    "forest_scores = cross_val_score(forest_reg, scouts_prepared, scouts_labels, scoring=\"neg_mean_squared_error\", cv=10)\n",
    "forest_rmse_scores = np.sqrt(-forest_scores)\n",
    "display_scores(forest_rmse_scores)"
   ]
  },
  {
   "cell_type": "code",
   "execution_count": 55,
   "id": "d252ac1f",
   "metadata": {},
   "outputs": [
    {
     "name": "stdout",
     "output_type": "stream",
     "text": [
      "1.0047433545205005\n"
     ]
    }
   ],
   "source": [
    "from xgboost import XGBRegressor\n",
    "\n",
    "xgb_reg = XGBRegressor()\n",
    "xgb_reg.fit(scouts_prepared, scouts_labels)\n",
    "\n",
    "\n",
    "scouts_predictions = xgb_reg.predict(scouts_prepared)\n",
    "xgb_mse = mean_squared_error(scouts_labels, scouts_predictions)\n",
    "xgb_rmse = np.sqrt(xgb_mse)\n",
    "print(xgb_rmse)"
   ]
  },
  {
   "cell_type": "code",
   "execution_count": 56,
   "id": "477e2a1d",
   "metadata": {},
   "outputs": [
    {
     "name": "stdout",
     "output_type": "stream",
     "text": [
      "Scores [1.46387597 1.82092233 1.60739033 1.94872286 2.24955088 1.28220734\n",
      " 1.73943472 1.46507245 1.81509511 2.11617097]\n",
      "Mean 1.7508442972273872\n",
      "Standard deviation 0.2889140086213353\n"
     ]
    }
   ],
   "source": [
    "#with cross validation\n",
    "xgb_scores = cross_val_score(xgb_reg, scouts_prepared, scouts_labels, scoring=\"neg_mean_squared_error\", cv=10)\n",
    "xgb_rmse_scores = np.sqrt(-xgb_scores)\n",
    "display_scores(xgb_rmse_scores)"
   ]
  },
  {
   "cell_type": "markdown",
   "id": "4bbdd625",
   "metadata": {},
   "source": [
    "# Adjustment models with grid search"
   ]
  },
  {
   "cell_type": "markdown",
   "id": "b952fa42",
   "metadata": {},
   "source": [
    "# Linear regression"
   ]
  },
  {
   "cell_type": "code",
   "execution_count": 57,
   "id": "d388b262",
   "metadata": {},
   "outputs": [
    {
     "name": "stdout",
     "output_type": "stream",
     "text": [
      "dict_keys(['copy_X', 'fit_intercept', 'n_jobs', 'normalize', 'positive'])\n"
     ]
    }
   ],
   "source": [
    "from sklearn.model_selection import GridSearchCV\n",
    "\n",
    "# param_grid = [\n",
    "#     {\"n_estimators\": [3, 10, 30], \"max_features\":[2,4,6,8]},\n",
    "#     {\"bootstrap\": [False], 'n_estimators':[3,10], 'max_features':[2,3,4]},\n",
    "# ]\n",
    "space = dict()\n",
    "space['fit_intercept'] = [True, False]\n",
    "space['n_jobs'] = [None,1, 3, 30]\n",
    "space['normalize'] = [True, False]\n",
    "space['positive'] = [True, False]\n",
    "space['copy_X'] = [True, False]\n",
    "\n",
    "lin_reg = LinearRegression()\n",
    "grid_search = GridSearchCV(lin_reg, space, cv=5, scoring=\"neg_mean_squared_error\")\n",
    "print(grid_search.estimator.get_params().keys())\n",
    "\n",
    "result = grid_search.fit(scouts_prepared, scouts_labels)"
   ]
  },
  {
   "cell_type": "code",
   "execution_count": 58,
   "id": "453042c9",
   "metadata": {},
   "outputs": [
    {
     "name": "stdout",
     "output_type": "stream",
     "text": [
      "Best Score: -6.387349504240483\n",
      "Best Hyperparameters: {'copy_X': True, 'fit_intercept': True, 'n_jobs': None, 'normalize': False, 'positive': False}\n"
     ]
    }
   ],
   "source": [
    "print('Best Score: %s' % result.best_score_)\n",
    "print('Best Hyperparameters: %s' % result.best_params_)"
   ]
  },
  {
   "cell_type": "code",
   "execution_count": 59,
   "id": "d00bcb05",
   "metadata": {},
   "outputs": [
    {
     "name": "stdout",
     "output_type": "stream",
     "text": [
      "LinearRegression()\n",
      "LinearRegression()\n"
     ]
    },
    {
     "data": {
      "text/plain": [
       "2.759181238772602"
      ]
     },
     "execution_count": 59,
     "metadata": {},
     "output_type": "execute_result"
    }
   ],
   "source": [
    "final_model = grid_search.best_estimator_\n",
    "print(final_model)\n",
    "print(grid_search.best_estimator_)\n",
    "\n",
    "X_test = test_set.drop(\"Últ. Pont.\", axis=1)\n",
    "Y_test = test_set[\"Últ. Pont.\"].copy()\n",
    "players_name = test_set[\"Nome\"].copy()\n",
    "rounds = test_set[\"rodada\"].copy()\n",
    "prices = test_set[\"Preço\"].copy()\n",
    "\n",
    "\n",
    "X_test_prepared = full_pipeline.transform(X_test)\n",
    "\n",
    "final_predictions = final_model.predict(X_test_prepared)\n",
    "\n",
    "final_mse = mean_squared_error(Y_test, final_predictions)\n",
    "final_rmse = np.sqrt(final_mse)\n",
    "final_rmse"
   ]
  },
  {
   "cell_type": "code",
   "execution_count": 60,
   "id": "40c246db",
   "metadata": {},
   "outputs": [
    {
     "name": "stdout",
     "output_type": "stream",
     "text": [
      "                     Player  Predictions  Labels  Round  Prices\n",
      "2287          Marinho (ATA)    17.905060   18.20     23   25.81\n",
      "2288      John Victor (GOL)     0.573669   -4.40     23    0.76\n",
      "2289   Felipe Jonatan (LAT)     0.744843   -0.90     23   11.08\n",
      "2290             Cuca (TEC)     3.528778    4.37     23   10.89\n",
      "2291     Diego Pituca (MEI)     0.426331   -0.20     23    7.04\n",
      "...                     ...          ...     ...    ...     ...\n",
      "12140    Arthur Gomes (ATA)     2.427307    1.60     38    3.71\n",
      "12141       Jean Mota (MEI)    -0.963043    0.00     38    3.71\n",
      "12142          Sandry (MEI)    -0.746277   -0.40     38    1.54\n",
      "12143     Luiz Felipe (ZAG)     2.100159   -0.20     38    3.07\n",
      "12144          Ângelo (ATA)     0.988861    0.40     38    0.79\n",
      "\n",
      "[3313 rows x 5 columns]\n"
     ]
    }
   ],
   "source": [
    "import pandas as pd  \n",
    "  \n",
    "# assign data of lists.  \n",
    "data = {'Player': players_name,'Predictions': final_predictions, 'Labels': Y_test, 'Round': rounds, 'Prices': prices}  \n",
    "  \n",
    "# Create DataFrame  \n",
    "lin_reg_result = pd.DataFrame(data)  \n",
    "  \n",
    "# Print the output.  \n",
    "print(lin_reg_result)  "
   ]
  },
  {
   "cell_type": "code",
   "execution_count": 61,
   "id": "80f27df0",
   "metadata": {},
   "outputs": [],
   "source": [
    "RESULTS_PATH = os.path.join(\"result\", \"files\")\n",
    "def saveResult(df, file_name):\n",
    "    if not os.path.isdir(RESULTS_PATH):\n",
    "        os.makedirs(RESULTS_PATH)\n",
    "    df.to_csv(RESULTS_PATH + \"/\" + file_name, encoding='utf-8')\n",
    "    \n",
    "saveResult(lin_reg_result, \"linear-regression\")"
   ]
  },
  {
   "cell_type": "code",
   "execution_count": 62,
   "id": "5153eb34",
   "metadata": {},
   "outputs": [
    {
     "data": {
      "text/html": [
       "<div>\n",
       "<style scoped>\n",
       "    .dataframe tbody tr th:only-of-type {\n",
       "        vertical-align: middle;\n",
       "    }\n",
       "\n",
       "    .dataframe tbody tr th {\n",
       "        vertical-align: top;\n",
       "    }\n",
       "\n",
       "    .dataframe thead th {\n",
       "        text-align: right;\n",
       "    }\n",
       "</style>\n",
       "<table border=\"1\" class=\"dataframe\">\n",
       "  <thead>\n",
       "    <tr style=\"text-align: right;\">\n",
       "      <th></th>\n",
       "      <th>Player</th>\n",
       "      <th>Predictions</th>\n",
       "      <th>Labels</th>\n",
       "      <th>Round</th>\n",
       "      <th>Prices</th>\n",
       "    </tr>\n",
       "  </thead>\n",
       "  <tbody>\n",
       "    <tr>\n",
       "      <th>2287</th>\n",
       "      <td>Marinho (ATA)</td>\n",
       "      <td>17.905060</td>\n",
       "      <td>18.20</td>\n",
       "      <td>23</td>\n",
       "      <td>25.81</td>\n",
       "    </tr>\n",
       "    <tr>\n",
       "      <th>10516</th>\n",
       "      <td>Vina (MEI)</td>\n",
       "      <td>10.639160</td>\n",
       "      <td>13.80</td>\n",
       "      <td>23</td>\n",
       "      <td>11.78</td>\n",
       "    </tr>\n",
       "    <tr>\n",
       "      <th>10528</th>\n",
       "      <td>Luciano (ATA)</td>\n",
       "      <td>9.381744</td>\n",
       "      <td>17.90</td>\n",
       "      <td>23</td>\n",
       "      <td>11.61</td>\n",
       "    </tr>\n",
       "    <tr>\n",
       "      <th>2334</th>\n",
       "      <td>Jean (GOL)</td>\n",
       "      <td>8.808533</td>\n",
       "      <td>15.50</td>\n",
       "      <td>23</td>\n",
       "      <td>11.04</td>\n",
       "    </tr>\n",
       "    <tr>\n",
       "      <th>10518</th>\n",
       "      <td>Cléber (ATA)</td>\n",
       "      <td>8.625580</td>\n",
       "      <td>12.20</td>\n",
       "      <td>23</td>\n",
       "      <td>12.44</td>\n",
       "    </tr>\n",
       "    <tr>\n",
       "      <th>2314</th>\n",
       "      <td>Rony (ATA)</td>\n",
       "      <td>8.525085</td>\n",
       "      <td>17.20</td>\n",
       "      <td>23</td>\n",
       "      <td>11.77</td>\n",
       "    </tr>\n",
       "    <tr>\n",
       "      <th>10532</th>\n",
       "      <td>Arboleda (ZAG)</td>\n",
       "      <td>8.319397</td>\n",
       "      <td>14.30</td>\n",
       "      <td>23</td>\n",
       "      <td>10.42</td>\n",
       "    </tr>\n",
       "    <tr>\n",
       "      <th>2309</th>\n",
       "      <td>Viña (LAT)</td>\n",
       "      <td>8.285431</td>\n",
       "      <td>14.90</td>\n",
       "      <td>23</td>\n",
       "      <td>10.45</td>\n",
       "    </tr>\n",
       "    <tr>\n",
       "      <th>2297</th>\n",
       "      <td>Calegari (LAT)</td>\n",
       "      <td>8.009674</td>\n",
       "      <td>14.50</td>\n",
       "      <td>23</td>\n",
       "      <td>7.02</td>\n",
       "    </tr>\n",
       "    <tr>\n",
       "      <th>2310</th>\n",
       "      <td>Abel Ferreira (TEC)</td>\n",
       "      <td>7.317139</td>\n",
       "      <td>8.62</td>\n",
       "      <td>23</td>\n",
       "      <td>12.48</td>\n",
       "    </tr>\n",
       "    <tr>\n",
       "      <th>2306</th>\n",
       "      <td>Marcos Felipe (GOL)</td>\n",
       "      <td>7.178436</td>\n",
       "      <td>12.20</td>\n",
       "      <td>23</td>\n",
       "      <td>2.91</td>\n",
       "    </tr>\n",
       "    <tr>\n",
       "      <th>2321</th>\n",
       "      <td>Cano (ATA)</td>\n",
       "      <td>6.722992</td>\n",
       "      <td>0.00</td>\n",
       "      <td>23</td>\n",
       "      <td>13.85</td>\n",
       "    </tr>\n",
       "    <tr>\n",
       "      <th>2311</th>\n",
       "      <td>Patrick de Paula (MEI)</td>\n",
       "      <td>6.617340</td>\n",
       "      <td>10.80</td>\n",
       "      <td>23</td>\n",
       "      <td>7.17</td>\n",
       "    </tr>\n",
       "    <tr>\n",
       "      <th>10505</th>\n",
       "      <td>Thiago Galhardo (MEI)</td>\n",
       "      <td>6.435211</td>\n",
       "      <td>-2.40</td>\n",
       "      <td>23</td>\n",
       "      <td>17.27</td>\n",
       "    </tr>\n",
       "    <tr>\n",
       "      <th>10511</th>\n",
       "      <td>Uendel (LAT)</td>\n",
       "      <td>5.976410</td>\n",
       "      <td>7.50</td>\n",
       "      <td>23</td>\n",
       "      <td>4.50</td>\n",
       "    </tr>\n",
       "    <tr>\n",
       "      <th>10566</th>\n",
       "      <td>Leandro Barcia (ATA)</td>\n",
       "      <td>5.952271</td>\n",
       "      <td>10.60</td>\n",
       "      <td>23</td>\n",
       "      <td>7.56</td>\n",
       "    </tr>\n",
       "    <tr>\n",
       "      <th>10530</th>\n",
       "      <td>Reinaldo (LAT)</td>\n",
       "      <td>5.644928</td>\n",
       "      <td>6.80</td>\n",
       "      <td>23</td>\n",
       "      <td>14.10</td>\n",
       "    </tr>\n",
       "    <tr>\n",
       "      <th>2303</th>\n",
       "      <td>Igor Julião (LAT)</td>\n",
       "      <td>5.495941</td>\n",
       "      <td>9.30</td>\n",
       "      <td>23</td>\n",
       "      <td>5.41</td>\n",
       "    </tr>\n",
       "    <tr>\n",
       "      <th>10547</th>\n",
       "      <td>Ligger (ZAG)</td>\n",
       "      <td>5.089264</td>\n",
       "      <td>9.30</td>\n",
       "      <td>23</td>\n",
       "      <td>5.48</td>\n",
       "    </tr>\n",
       "    <tr>\n",
       "      <th>2338</th>\n",
       "      <td>Chico (ATA)</td>\n",
       "      <td>4.972046</td>\n",
       "      <td>3.50</td>\n",
       "      <td>23</td>\n",
       "      <td>4.83</td>\n",
       "    </tr>\n",
       "    <tr>\n",
       "      <th>10546</th>\n",
       "      <td>Léo Ortiz (ZAG)</td>\n",
       "      <td>4.776764</td>\n",
       "      <td>4.30</td>\n",
       "      <td>23</td>\n",
       "      <td>8.23</td>\n",
       "    </tr>\n",
       "    <tr>\n",
       "      <th>10542</th>\n",
       "      <td>Lucas Evangelista (MEI)</td>\n",
       "      <td>4.659393</td>\n",
       "      <td>5.60</td>\n",
       "      <td>23</td>\n",
       "      <td>5.57</td>\n",
       "    </tr>\n",
       "    <tr>\n",
       "      <th>2315</th>\n",
       "      <td>Gabriel Menino (MEI)</td>\n",
       "      <td>4.646393</td>\n",
       "      <td>5.00</td>\n",
       "      <td>23</td>\n",
       "      <td>6.13</td>\n",
       "    </tr>\n",
       "    <tr>\n",
       "      <th>2346</th>\n",
       "      <td>Douglas Friedrich (GOL)</td>\n",
       "      <td>4.559540</td>\n",
       "      <td>5.30</td>\n",
       "      <td>23</td>\n",
       "      <td>9.31</td>\n",
       "    </tr>\n",
       "    <tr>\n",
       "      <th>10562</th>\n",
       "      <td>Marquinhos (ATA)</td>\n",
       "      <td>4.552277</td>\n",
       "      <td>6.30</td>\n",
       "      <td>23</td>\n",
       "      <td>7.24</td>\n",
       "    </tr>\n",
       "    <tr>\n",
       "      <th>2342</th>\n",
       "      <td>Éder (ZAG)</td>\n",
       "      <td>4.521545</td>\n",
       "      <td>7.60</td>\n",
       "      <td>23</td>\n",
       "      <td>4.60</td>\n",
       "    </tr>\n",
       "    <tr>\n",
       "      <th>2301</th>\n",
       "      <td>Luccas Claro (ZAG)</td>\n",
       "      <td>4.521027</td>\n",
       "      <td>7.70</td>\n",
       "      <td>23</td>\n",
       "      <td>7.08</td>\n",
       "    </tr>\n",
       "    <tr>\n",
       "      <th>10529</th>\n",
       "      <td>Brenner (ATA)</td>\n",
       "      <td>4.488098</td>\n",
       "      <td>3.80</td>\n",
       "      <td>23</td>\n",
       "      <td>6.46</td>\n",
       "    </tr>\n",
       "    <tr>\n",
       "      <th>10520</th>\n",
       "      <td>Bruno Pacheco (LAT)</td>\n",
       "      <td>4.440460</td>\n",
       "      <td>3.50</td>\n",
       "      <td>23</td>\n",
       "      <td>8.18</td>\n",
       "    </tr>\n",
       "    <tr>\n",
       "      <th>2320</th>\n",
       "      <td>Lucas Lima (MEI)</td>\n",
       "      <td>4.357971</td>\n",
       "      <td>7.90</td>\n",
       "      <td>23</td>\n",
       "      <td>5.43</td>\n",
       "    </tr>\n",
       "    <tr>\n",
       "      <th>2312</th>\n",
       "      <td>Gustavo Gómez (ZAG)</td>\n",
       "      <td>4.320618</td>\n",
       "      <td>6.30</td>\n",
       "      <td>23</td>\n",
       "      <td>11.78</td>\n",
       "    </tr>\n",
       "    <tr>\n",
       "      <th>2319</th>\n",
       "      <td>Weverton (GOL)</td>\n",
       "      <td>4.300659</td>\n",
       "      <td>8.00</td>\n",
       "      <td>23</td>\n",
       "      <td>8.57</td>\n",
       "    </tr>\n",
       "    <tr>\n",
       "      <th>10545</th>\n",
       "      <td>Artur (ATA)</td>\n",
       "      <td>4.244995</td>\n",
       "      <td>6.60</td>\n",
       "      <td>23</td>\n",
       "      <td>12.16</td>\n",
       "    </tr>\n",
       "    <tr>\n",
       "      <th>2298</th>\n",
       "      <td>Nenê (MEI)</td>\n",
       "      <td>4.052521</td>\n",
       "      <td>1.20</td>\n",
       "      <td>23</td>\n",
       "      <td>12.32</td>\n",
       "    </tr>\n",
       "    <tr>\n",
       "      <th>2349</th>\n",
       "      <td>Nino Paraíba (LAT)</td>\n",
       "      <td>3.797333</td>\n",
       "      <td>5.80</td>\n",
       "      <td>23</td>\n",
       "      <td>8.22</td>\n",
       "    </tr>\n",
       "    <tr>\n",
       "      <th>2318</th>\n",
       "      <td>Luan (ZAG)</td>\n",
       "      <td>3.721313</td>\n",
       "      <td>5.40</td>\n",
       "      <td>23</td>\n",
       "      <td>5.97</td>\n",
       "    </tr>\n",
       "    <tr>\n",
       "      <th>10508</th>\n",
       "      <td>Víctor Cuesta (ZAG)</td>\n",
       "      <td>3.706268</td>\n",
       "      <td>8.50</td>\n",
       "      <td>23</td>\n",
       "      <td>11.07</td>\n",
       "    </tr>\n",
       "    <tr>\n",
       "      <th>10506</th>\n",
       "      <td>Patrick (MEI)</td>\n",
       "      <td>3.599304</td>\n",
       "      <td>3.60</td>\n",
       "      <td>23</td>\n",
       "      <td>11.70</td>\n",
       "    </tr>\n",
       "    <tr>\n",
       "      <th>2300</th>\n",
       "      <td>Odair Hellmann (TEC)</td>\n",
       "      <td>3.530853</td>\n",
       "      <td>5.75</td>\n",
       "      <td>23</td>\n",
       "      <td>9.89</td>\n",
       "    </tr>\n",
       "    <tr>\n",
       "      <th>2290</th>\n",
       "      <td>Cuca (TEC)</td>\n",
       "      <td>3.528778</td>\n",
       "      <td>4.37</td>\n",
       "      <td>23</td>\n",
       "      <td>10.89</td>\n",
       "    </tr>\n",
       "    <tr>\n",
       "      <th>10563</th>\n",
       "      <td>Lucas Mugni (MEI)</td>\n",
       "      <td>3.445770</td>\n",
       "      <td>3.60</td>\n",
       "      <td>23</td>\n",
       "      <td>4.88</td>\n",
       "    </tr>\n",
       "    <tr>\n",
       "      <th>2316</th>\n",
       "      <td>Zé Rafael (MEI)</td>\n",
       "      <td>3.444427</td>\n",
       "      <td>1.10</td>\n",
       "      <td>23</td>\n",
       "      <td>9.24</td>\n",
       "    </tr>\n",
       "    <tr>\n",
       "      <th>10568</th>\n",
       "      <td>Patric (LAT)</td>\n",
       "      <td>3.416199</td>\n",
       "      <td>3.50</td>\n",
       "      <td>23</td>\n",
       "      <td>8.36</td>\n",
       "    </tr>\n",
       "    <tr>\n",
       "      <th>2333</th>\n",
       "      <td>Marcelo Cabo (TEC)</td>\n",
       "      <td>3.204559</td>\n",
       "      <td>4.06</td>\n",
       "      <td>23</td>\n",
       "      <td>9.00</td>\n",
       "    </tr>\n",
       "    <tr>\n",
       "      <th>10531</th>\n",
       "      <td>Tiago Volpi (GOL)</td>\n",
       "      <td>3.188324</td>\n",
       "      <td>1.80</td>\n",
       "      <td>23</td>\n",
       "      <td>12.69</td>\n",
       "    </tr>\n",
       "    <tr>\n",
       "      <th>2350</th>\n",
       "      <td>Daniel (MEI)</td>\n",
       "      <td>3.118622</td>\n",
       "      <td>0.10</td>\n",
       "      <td>23</td>\n",
       "      <td>4.35</td>\n",
       "    </tr>\n",
       "    <tr>\n",
       "      <th>10541</th>\n",
       "      <td>Raul (MEI)</td>\n",
       "      <td>3.115509</td>\n",
       "      <td>3.30</td>\n",
       "      <td>23</td>\n",
       "      <td>8.33</td>\n",
       "    </tr>\n",
       "    <tr>\n",
       "      <th>10539</th>\n",
       "      <td>Igor Gomes (MEI)</td>\n",
       "      <td>3.084625</td>\n",
       "      <td>3.30</td>\n",
       "      <td>23</td>\n",
       "      <td>3.98</td>\n",
       "    </tr>\n",
       "    <tr>\n",
       "      <th>2340</th>\n",
       "      <td>Arnaldo (LAT)</td>\n",
       "      <td>3.061493</td>\n",
       "      <td>6.20</td>\n",
       "      <td>23</td>\n",
       "      <td>4.02</td>\n",
       "    </tr>\n",
       "    <tr>\n",
       "      <th>10533</th>\n",
       "      <td>Fernando Diniz (TEC)</td>\n",
       "      <td>2.954010</td>\n",
       "      <td>4.62</td>\n",
       "      <td>23</td>\n",
       "      <td>9.61</td>\n",
       "    </tr>\n",
       "  </tbody>\n",
       "</table>\n",
       "</div>"
      ],
      "text/plain": [
       "                        Player  Predictions  Labels  Round  Prices\n",
       "2287             Marinho (ATA)    17.905060   18.20     23   25.81\n",
       "10516               Vina (MEI)    10.639160   13.80     23   11.78\n",
       "10528            Luciano (ATA)     9.381744   17.90     23   11.61\n",
       "2334                Jean (GOL)     8.808533   15.50     23   11.04\n",
       "10518             Cléber (ATA)     8.625580   12.20     23   12.44\n",
       "2314                Rony (ATA)     8.525085   17.20     23   11.77\n",
       "10532           Arboleda (ZAG)     8.319397   14.30     23   10.42\n",
       "2309                Viña (LAT)     8.285431   14.90     23   10.45\n",
       "2297            Calegari (LAT)     8.009674   14.50     23    7.02\n",
       "2310       Abel Ferreira (TEC)     7.317139    8.62     23   12.48\n",
       "2306       Marcos Felipe (GOL)     7.178436   12.20     23    2.91\n",
       "2321                Cano (ATA)     6.722992    0.00     23   13.85\n",
       "2311    Patrick de Paula (MEI)     6.617340   10.80     23    7.17\n",
       "10505    Thiago Galhardo (MEI)     6.435211   -2.40     23   17.27\n",
       "10511             Uendel (LAT)     5.976410    7.50     23    4.50\n",
       "10566     Leandro Barcia (ATA)     5.952271   10.60     23    7.56\n",
       "10530           Reinaldo (LAT)     5.644928    6.80     23   14.10\n",
       "2303         Igor Julião (LAT)     5.495941    9.30     23    5.41\n",
       "10547             Ligger (ZAG)     5.089264    9.30     23    5.48\n",
       "2338               Chico (ATA)     4.972046    3.50     23    4.83\n",
       "10546          Léo Ortiz (ZAG)     4.776764    4.30     23    8.23\n",
       "10542  Lucas Evangelista (MEI)     4.659393    5.60     23    5.57\n",
       "2315      Gabriel Menino (MEI)     4.646393    5.00     23    6.13\n",
       "2346   Douglas Friedrich (GOL)     4.559540    5.30     23    9.31\n",
       "10562         Marquinhos (ATA)     4.552277    6.30     23    7.24\n",
       "2342                Éder (ZAG)     4.521545    7.60     23    4.60\n",
       "2301        Luccas Claro (ZAG)     4.521027    7.70     23    7.08\n",
       "10529            Brenner (ATA)     4.488098    3.80     23    6.46\n",
       "10520      Bruno Pacheco (LAT)     4.440460    3.50     23    8.18\n",
       "2320          Lucas Lima (MEI)     4.357971    7.90     23    5.43\n",
       "2312       Gustavo Gómez (ZAG)     4.320618    6.30     23   11.78\n",
       "2319            Weverton (GOL)     4.300659    8.00     23    8.57\n",
       "10545              Artur (ATA)     4.244995    6.60     23   12.16\n",
       "2298                Nenê (MEI)     4.052521    1.20     23   12.32\n",
       "2349        Nino Paraíba (LAT)     3.797333    5.80     23    8.22\n",
       "2318                Luan (ZAG)     3.721313    5.40     23    5.97\n",
       "10508      Víctor Cuesta (ZAG)     3.706268    8.50     23   11.07\n",
       "10506            Patrick (MEI)     3.599304    3.60     23   11.70\n",
       "2300      Odair Hellmann (TEC)     3.530853    5.75     23    9.89\n",
       "2290                Cuca (TEC)     3.528778    4.37     23   10.89\n",
       "10563        Lucas Mugni (MEI)     3.445770    3.60     23    4.88\n",
       "2316           Zé Rafael (MEI)     3.444427    1.10     23    9.24\n",
       "10568             Patric (LAT)     3.416199    3.50     23    8.36\n",
       "2333        Marcelo Cabo (TEC)     3.204559    4.06     23    9.00\n",
       "10531        Tiago Volpi (GOL)     3.188324    1.80     23   12.69\n",
       "2350              Daniel (MEI)     3.118622    0.10     23    4.35\n",
       "10541               Raul (MEI)     3.115509    3.30     23    8.33\n",
       "10539         Igor Gomes (MEI)     3.084625    3.30     23    3.98\n",
       "2340             Arnaldo (LAT)     3.061493    6.20     23    4.02\n",
       "10533     Fernando Diniz (TEC)     2.954010    4.62     23    9.61"
      ]
     },
     "execution_count": 62,
     "metadata": {},
     "output_type": "execute_result"
    }
   ],
   "source": [
    "lin_reg_result.sort_values(['Round', 'Predictions'], ascending=[True, False]).head(50)"
   ]
  },
  {
   "cell_type": "markdown",
   "id": "4f3d1859",
   "metadata": {},
   "source": [
    "# Random Forest"
   ]
  },
  {
   "cell_type": "code",
   "execution_count": null,
   "id": "1af20430",
   "metadata": {},
   "outputs": [],
   "source": [
    "\n",
    "param_grid = [\n",
    "     {'n_estimators': [5, 10, 50, 500], 'max_features': [2, 4, 6, 8, 16, 32]},\n",
    "     {'bootstrap': [False], 'n_estimators': [5, 10, 50], 'max_features': [2, 3, 4, 8, 16, 32]},\n",
    "]\n",
    "\n",
    "\n",
    "forest_reg = RandomForestRegressor()\n",
    "\n",
    "grid_search = GridSearchCV(forest_reg, param_grid, cv = 5, scoring='neg_mean_squared_error')\n",
    "\n",
    "grid_search.fit(scouts_prepared, scouts_labels)"
   ]
  },
  {
   "cell_type": "code",
   "execution_count": null,
   "id": "5449a8ff",
   "metadata": {},
   "outputs": [],
   "source": [
    "grid_search.best_params_"
   ]
  },
  {
   "cell_type": "code",
   "execution_count": null,
   "id": "72c438b0",
   "metadata": {},
   "outputs": [],
   "source": [
    "grid_search.best_estimator_"
   ]
  },
  {
   "cell_type": "code",
   "execution_count": 88,
   "id": "c0869e7c",
   "metadata": {},
   "outputs": [
    {
     "data": {
      "text/plain": [
       "2.0933289121340524"
      ]
     },
     "execution_count": 88,
     "metadata": {},
     "output_type": "execute_result"
    }
   ],
   "source": [
    "final_model = grid_search.best_estimator_\n",
    "print(final_model)\n",
    "print(grid_search.best_estimator_)\n",
    "\n",
    "final_predictions = final_model.predict(X_test_prepared)\n",
    "\n",
    "final_mse = mean_squared_error(Y_test, final_predictions)\n",
    "final_rmse = np.sqrt(final_mse)\n",
    "final_rmse"
   ]
  },
  {
   "cell_type": "code",
   "execution_count": 90,
   "id": "c7816a1e",
   "metadata": {},
   "outputs": [
    {
     "name": "stdout",
     "output_type": "stream",
     "text": [
      "                     Player  Predictions  Labels  Round\n",
      "2287          Marinho (ATA)    17.905060   18.20     23\n",
      "2288      John Victor (GOL)     0.573669   -4.40     23\n",
      "2289   Felipe Jonatan (LAT)     0.744843   -0.90     23\n",
      "2290             Cuca (TEC)     3.528778    4.37     23\n",
      "2291     Diego Pituca (MEI)     0.426331   -0.20     23\n",
      "...                     ...          ...     ...    ...\n",
      "12140    Arthur Gomes (ATA)     2.427307    1.60     38\n",
      "12141       Jean Mota (MEI)    -0.963043    0.00     38\n",
      "12142          Sandry (MEI)    -0.746277   -0.40     38\n",
      "12143     Luiz Felipe (ZAG)     2.100159   -0.20     38\n",
      "12144          Ângelo (ATA)     0.988861    0.40     38\n",
      "\n",
      "[3313 rows x 4 columns]\n"
     ]
    }
   ],
   "source": [
    "import pandas as pd  \n",
    "  \n",
    "# assign data of lists.  \n",
    "data = {'Player': players_name,'Predictions': final_predictions, 'Labels': Y_test, 'Round': rounds,'Prices': prices}  \n",
    "  \n",
    "# Create DataFrame  \n",
    "random_forest_reg_result = pd.DataFrame(data)  \n",
    "  \n",
    "# Print the output.  \n",
    "print(lin_reg_result)  "
   ]
  },
  {
   "cell_type": "code",
   "execution_count": 91,
   "id": "ecbed418",
   "metadata": {},
   "outputs": [],
   "source": [
    "saveResult(random_forest_reg_result, \"random-forest\")"
   ]
  },
  {
   "cell_type": "markdown",
   "id": "3a87e803",
   "metadata": {},
   "source": [
    "# XGBoost"
   ]
  },
  {
   "cell_type": "code",
   "execution_count": 96,
   "id": "0f7e74bf",
   "metadata": {},
   "outputs": [
    {
     "name": "stdout",
     "output_type": "stream",
     "text": [
      "dict_keys(['objective', 'base_score', 'booster', 'colsample_bylevel', 'colsample_bynode', 'colsample_bytree', 'gamma', 'gpu_id', 'importance_type', 'interaction_constraints', 'learning_rate', 'max_delta_step', 'max_depth', 'min_child_weight', 'missing', 'monotone_constraints', 'n_estimators', 'n_jobs', 'num_parallel_tree', 'random_state', 'reg_alpha', 'reg_lambda', 'scale_pos_weight', 'subsample', 'tree_method', 'validate_parameters', 'verbosity'])\n"
     ]
    },
    {
     "ename": "ValueError",
     "evalue": "No fits were performed. Was the CV iterator empty? Were there no candidates?",
     "output_type": "error",
     "traceback": [
      "\u001b[0;31m---------------------------------------------------------------------------\u001b[0m",
      "\u001b[0;31mValueError\u001b[0m                                Traceback (most recent call last)",
      "\u001b[0;32m/tmp/ipykernel_5022/1173157316.py\u001b[0m in \u001b[0;36m<module>\u001b[0;34m\u001b[0m\n\u001b[1;32m     14\u001b[0m \u001b[0mgrid_search\u001b[0m \u001b[0;34m=\u001b[0m \u001b[0mGridSearchCV\u001b[0m\u001b[0;34m(\u001b[0m\u001b[0mxgb_reg\u001b[0m\u001b[0;34m,\u001b[0m \u001b[0mparam_grid\u001b[0m\u001b[0;34m=\u001b[0m\u001b[0;34m[\u001b[0m\u001b[0;34m]\u001b[0m\u001b[0;34m,\u001b[0m \u001b[0mcv\u001b[0m \u001b[0;34m=\u001b[0m \u001b[0;36m5\u001b[0m\u001b[0;34m,\u001b[0m \u001b[0mscoring\u001b[0m\u001b[0;34m=\u001b[0m\u001b[0;34m'neg_mean_squared_error'\u001b[0m\u001b[0;34m)\u001b[0m\u001b[0;34m\u001b[0m\u001b[0;34m\u001b[0m\u001b[0m\n\u001b[1;32m     15\u001b[0m \u001b[0mprint\u001b[0m\u001b[0;34m(\u001b[0m\u001b[0mgrid_search\u001b[0m\u001b[0;34m.\u001b[0m\u001b[0mestimator\u001b[0m\u001b[0;34m.\u001b[0m\u001b[0mget_params\u001b[0m\u001b[0;34m(\u001b[0m\u001b[0;34m)\u001b[0m\u001b[0;34m.\u001b[0m\u001b[0mkeys\u001b[0m\u001b[0;34m(\u001b[0m\u001b[0;34m)\u001b[0m\u001b[0;34m)\u001b[0m\u001b[0;34m\u001b[0m\u001b[0;34m\u001b[0m\u001b[0m\n\u001b[0;32m---> 16\u001b[0;31m \u001b[0mgrid_search\u001b[0m\u001b[0;34m.\u001b[0m\u001b[0mfit\u001b[0m\u001b[0;34m(\u001b[0m\u001b[0mscouts_prepared\u001b[0m\u001b[0;34m,\u001b[0m \u001b[0mscouts_labels\u001b[0m\u001b[0;34m)\u001b[0m\u001b[0;34m\u001b[0m\u001b[0;34m\u001b[0m\u001b[0m\n\u001b[0m",
      "\u001b[0;32m~/.local/lib/python3.8/site-packages/sklearn/utils/validation.py\u001b[0m in \u001b[0;36minner_f\u001b[0;34m(*args, **kwargs)\u001b[0m\n\u001b[1;32m     61\u001b[0m             \u001b[0mextra_args\u001b[0m \u001b[0;34m=\u001b[0m \u001b[0mlen\u001b[0m\u001b[0;34m(\u001b[0m\u001b[0margs\u001b[0m\u001b[0;34m)\u001b[0m \u001b[0;34m-\u001b[0m \u001b[0mlen\u001b[0m\u001b[0;34m(\u001b[0m\u001b[0mall_args\u001b[0m\u001b[0;34m)\u001b[0m\u001b[0;34m\u001b[0m\u001b[0;34m\u001b[0m\u001b[0m\n\u001b[1;32m     62\u001b[0m             \u001b[0;32mif\u001b[0m \u001b[0mextra_args\u001b[0m \u001b[0;34m<=\u001b[0m \u001b[0;36m0\u001b[0m\u001b[0;34m:\u001b[0m\u001b[0;34m\u001b[0m\u001b[0;34m\u001b[0m\u001b[0m\n\u001b[0;32m---> 63\u001b[0;31m                 \u001b[0;32mreturn\u001b[0m \u001b[0mf\u001b[0m\u001b[0;34m(\u001b[0m\u001b[0;34m*\u001b[0m\u001b[0margs\u001b[0m\u001b[0;34m,\u001b[0m \u001b[0;34m**\u001b[0m\u001b[0mkwargs\u001b[0m\u001b[0;34m)\u001b[0m\u001b[0;34m\u001b[0m\u001b[0;34m\u001b[0m\u001b[0m\n\u001b[0m\u001b[1;32m     64\u001b[0m \u001b[0;34m\u001b[0m\u001b[0m\n\u001b[1;32m     65\u001b[0m             \u001b[0;31m# extra_args > 0\u001b[0m\u001b[0;34m\u001b[0m\u001b[0;34m\u001b[0m\u001b[0;34m\u001b[0m\u001b[0m\n",
      "\u001b[0;32m~/.local/lib/python3.8/site-packages/sklearn/model_selection/_search.py\u001b[0m in \u001b[0;36mfit\u001b[0;34m(self, X, y, groups, **fit_params)\u001b[0m\n\u001b[1;32m    839\u001b[0m                 \u001b[0;32mreturn\u001b[0m \u001b[0mresults\u001b[0m\u001b[0;34m\u001b[0m\u001b[0;34m\u001b[0m\u001b[0m\n\u001b[1;32m    840\u001b[0m \u001b[0;34m\u001b[0m\u001b[0m\n\u001b[0;32m--> 841\u001b[0;31m             \u001b[0mself\u001b[0m\u001b[0;34m.\u001b[0m\u001b[0m_run_search\u001b[0m\u001b[0;34m(\u001b[0m\u001b[0mevaluate_candidates\u001b[0m\u001b[0;34m)\u001b[0m\u001b[0;34m\u001b[0m\u001b[0;34m\u001b[0m\u001b[0m\n\u001b[0m\u001b[1;32m    842\u001b[0m \u001b[0;34m\u001b[0m\u001b[0m\n\u001b[1;32m    843\u001b[0m             \u001b[0;31m# multimetric is determined here because in the case of a callable\u001b[0m\u001b[0;34m\u001b[0m\u001b[0;34m\u001b[0m\u001b[0;34m\u001b[0m\u001b[0m\n",
      "\u001b[0;32m~/.local/lib/python3.8/site-packages/sklearn/model_selection/_search.py\u001b[0m in \u001b[0;36m_run_search\u001b[0;34m(self, evaluate_candidates)\u001b[0m\n\u001b[1;32m   1294\u001b[0m     \u001b[0;32mdef\u001b[0m \u001b[0m_run_search\u001b[0m\u001b[0;34m(\u001b[0m\u001b[0mself\u001b[0m\u001b[0;34m,\u001b[0m \u001b[0mevaluate_candidates\u001b[0m\u001b[0;34m)\u001b[0m\u001b[0;34m:\u001b[0m\u001b[0;34m\u001b[0m\u001b[0;34m\u001b[0m\u001b[0m\n\u001b[1;32m   1295\u001b[0m         \u001b[0;34m\"\"\"Search all candidates in param_grid\"\"\"\u001b[0m\u001b[0;34m\u001b[0m\u001b[0;34m\u001b[0m\u001b[0m\n\u001b[0;32m-> 1296\u001b[0;31m         \u001b[0mevaluate_candidates\u001b[0m\u001b[0;34m(\u001b[0m\u001b[0mParameterGrid\u001b[0m\u001b[0;34m(\u001b[0m\u001b[0mself\u001b[0m\u001b[0;34m.\u001b[0m\u001b[0mparam_grid\u001b[0m\u001b[0;34m)\u001b[0m\u001b[0;34m)\u001b[0m\u001b[0;34m\u001b[0m\u001b[0;34m\u001b[0m\u001b[0m\n\u001b[0m\u001b[1;32m   1297\u001b[0m \u001b[0;34m\u001b[0m\u001b[0m\n\u001b[1;32m   1298\u001b[0m \u001b[0;34m\u001b[0m\u001b[0m\n",
      "\u001b[0;32m~/.local/lib/python3.8/site-packages/sklearn/model_selection/_search.py\u001b[0m in \u001b[0;36mevaluate_candidates\u001b[0;34m(candidate_params, cv, more_results)\u001b[0m\n\u001b[1;32m    810\u001b[0m \u001b[0;34m\u001b[0m\u001b[0m\n\u001b[1;32m    811\u001b[0m                 \u001b[0;32mif\u001b[0m \u001b[0mlen\u001b[0m\u001b[0;34m(\u001b[0m\u001b[0mout\u001b[0m\u001b[0;34m)\u001b[0m \u001b[0;34m<\u001b[0m \u001b[0;36m1\u001b[0m\u001b[0;34m:\u001b[0m\u001b[0;34m\u001b[0m\u001b[0;34m\u001b[0m\u001b[0m\n\u001b[0;32m--> 812\u001b[0;31m                     raise ValueError('No fits were performed. '\n\u001b[0m\u001b[1;32m    813\u001b[0m                                      \u001b[0;34m'Was the CV iterator empty? '\u001b[0m\u001b[0;34m\u001b[0m\u001b[0;34m\u001b[0m\u001b[0m\n\u001b[1;32m    814\u001b[0m                                      'Were there no candidates?')\n",
      "\u001b[0;31mValueError\u001b[0m: No fits were performed. Was the CV iterator empty? Were there no candidates?"
     ]
    }
   ],
   "source": [
    "param_grid = { 'learning_rate' : [0.05, 0.1],\n",
    "               'n_estimators' : [5, 10, 500],\n",
    "               'max_depth': [3, 10, 30],\n",
    "               'min_child_weight': [3, 10, 30],\n",
    "               'gamma':[0.4, 0.8],\n",
    "               'subsample' : [0.8],\n",
    "               'colsample_bytree' : [0.8],\n",
    "               'scale_pos_weight' : [1, 5, 50],\n",
    "               'reg_alpha':[1e-5, 0.5e-5]\n",
    "             }  \n",
    "\n",
    "xgb_reg = XGBRegressor()\n",
    "\n",
    "grid_search = GridSearchCV(xgb_reg, param_grid=[], cv = 5, scoring='neg_mean_squared_error')\n",
    "print(grid_search.estimator.get_params().keys())\n",
    "grid_search.fit(scouts_prepared, scouts_labels)"
   ]
  },
  {
   "cell_type": "code",
   "execution_count": 106,
   "id": "a5dc4fb0",
   "metadata": {
    "scrolled": true
   },
   "outputs": [
    {
     "data": {
      "text/plain": [
       "{'max_features': 16, 'n_estimators': 500}"
      ]
     },
     "execution_count": 106,
     "metadata": {},
     "output_type": "execute_result"
    }
   ],
   "source": [
    "grid_search.best_params_"
   ]
  },
  {
   "cell_type": "code",
   "execution_count": 103,
   "id": "f15356f0",
   "metadata": {},
   "outputs": [
    {
     "ename": "NotFittedError",
     "evalue": "need to call fit or load_model beforehand",
     "output_type": "error",
     "traceback": [
      "\u001b[0;31m---------------------------------------------------------------------------\u001b[0m",
      "\u001b[0;31mNotFittedError\u001b[0m                            Traceback (most recent call last)",
      "\u001b[0;32m/tmp/ipykernel_5022/3826958631.py\u001b[0m in \u001b[0;36m<module>\u001b[0;34m\u001b[0m\n\u001b[1;32m      9\u001b[0m \u001b[0mX_test_prepared\u001b[0m \u001b[0;34m=\u001b[0m \u001b[0mfull_pipeline\u001b[0m\u001b[0;34m.\u001b[0m\u001b[0mtransform\u001b[0m\u001b[0;34m(\u001b[0m\u001b[0mX_test\u001b[0m\u001b[0;34m)\u001b[0m\u001b[0;34m\u001b[0m\u001b[0;34m\u001b[0m\u001b[0m\n\u001b[1;32m     10\u001b[0m \u001b[0;34m\u001b[0m\u001b[0m\n\u001b[0;32m---> 11\u001b[0;31m \u001b[0mfinal_predictions\u001b[0m \u001b[0;34m=\u001b[0m \u001b[0mfinal_model\u001b[0m\u001b[0;34m.\u001b[0m\u001b[0mpredict\u001b[0m\u001b[0;34m(\u001b[0m\u001b[0mX_test_prepared\u001b[0m\u001b[0;34m)\u001b[0m\u001b[0;34m\u001b[0m\u001b[0;34m\u001b[0m\u001b[0m\n\u001b[0m\u001b[1;32m     12\u001b[0m \u001b[0;34m\u001b[0m\u001b[0m\n\u001b[1;32m     13\u001b[0m \u001b[0mfinal_mse\u001b[0m \u001b[0;34m=\u001b[0m \u001b[0mmean_squared_error\u001b[0m\u001b[0;34m(\u001b[0m\u001b[0mY_test\u001b[0m\u001b[0;34m,\u001b[0m \u001b[0mfinal_predictions\u001b[0m\u001b[0;34m)\u001b[0m\u001b[0;34m\u001b[0m\u001b[0;34m\u001b[0m\u001b[0m\n",
      "\u001b[0;32m~/.local/lib/python3.8/site-packages/xgboost/sklearn.py\u001b[0m in \u001b[0;36mpredict\u001b[0;34m(self, X, output_margin, ntree_limit, validate_features, base_margin, iteration_range)\u001b[0m\n\u001b[1;32m    813\u001b[0m         \"\"\"\n\u001b[1;32m    814\u001b[0m         iteration_range = _convert_ntree_limit(\n\u001b[0;32m--> 815\u001b[0;31m             \u001b[0mself\u001b[0m\u001b[0;34m.\u001b[0m\u001b[0mget_booster\u001b[0m\u001b[0;34m(\u001b[0m\u001b[0;34m)\u001b[0m\u001b[0;34m,\u001b[0m \u001b[0mntree_limit\u001b[0m\u001b[0;34m,\u001b[0m \u001b[0miteration_range\u001b[0m\u001b[0;34m\u001b[0m\u001b[0;34m\u001b[0m\u001b[0m\n\u001b[0m\u001b[1;32m    816\u001b[0m         )\n\u001b[1;32m    817\u001b[0m         \u001b[0miteration_range\u001b[0m \u001b[0;34m=\u001b[0m \u001b[0mself\u001b[0m\u001b[0;34m.\u001b[0m\u001b[0m_get_iteration_range\u001b[0m\u001b[0;34m(\u001b[0m\u001b[0miteration_range\u001b[0m\u001b[0;34m)\u001b[0m\u001b[0;34m\u001b[0m\u001b[0;34m\u001b[0m\u001b[0m\n",
      "\u001b[0;32m~/.local/lib/python3.8/site-packages/xgboost/sklearn.py\u001b[0m in \u001b[0;36mget_booster\u001b[0;34m(self)\u001b[0m\n\u001b[1;32m    395\u001b[0m         \u001b[0;32mif\u001b[0m \u001b[0;32mnot\u001b[0m \u001b[0mhasattr\u001b[0m\u001b[0;34m(\u001b[0m\u001b[0mself\u001b[0m\u001b[0;34m,\u001b[0m \u001b[0;34m'_Booster'\u001b[0m\u001b[0;34m)\u001b[0m\u001b[0;34m:\u001b[0m\u001b[0;34m\u001b[0m\u001b[0;34m\u001b[0m\u001b[0m\n\u001b[1;32m    396\u001b[0m             \u001b[0;32mfrom\u001b[0m \u001b[0msklearn\u001b[0m\u001b[0;34m.\u001b[0m\u001b[0mexceptions\u001b[0m \u001b[0;32mimport\u001b[0m \u001b[0mNotFittedError\u001b[0m\u001b[0;34m\u001b[0m\u001b[0;34m\u001b[0m\u001b[0m\n\u001b[0;32m--> 397\u001b[0;31m             \u001b[0;32mraise\u001b[0m \u001b[0mNotFittedError\u001b[0m\u001b[0;34m(\u001b[0m\u001b[0;34m'need to call fit or load_model beforehand'\u001b[0m\u001b[0;34m)\u001b[0m\u001b[0;34m\u001b[0m\u001b[0;34m\u001b[0m\u001b[0m\n\u001b[0m\u001b[1;32m    398\u001b[0m         \u001b[0;32mreturn\u001b[0m \u001b[0mself\u001b[0m\u001b[0;34m.\u001b[0m\u001b[0m_Booster\u001b[0m\u001b[0;34m\u001b[0m\u001b[0;34m\u001b[0m\u001b[0m\n\u001b[1;32m    399\u001b[0m \u001b[0;34m\u001b[0m\u001b[0m\n",
      "\u001b[0;31mNotFittedError\u001b[0m: need to call fit or load_model beforehand"
     ]
    }
   ],
   "source": [
    "final_model = grid_search.best_estimator_\n",
    "# XGBRegressor(colsample_bytree= 0.8, gamma= 0.4, learning_rate= 0.05, max_depth= 10, min_child_weight= 30, n_estimators= 500, reg_alpha= 1e-05, scale_pos_weight= 5, subsample= 0.8)\n",
    "\n",
    "final_predictions = final_model.predict(X_test_prepared)\n",
    "\n",
    "final_mse = mean_squared_error(Y_test, final_predictions)\n",
    "final_rmse = np.sqrt(final_mse)\n",
    "final_rmse"
   ]
  },
  {
   "cell_type": "code",
   "execution_count": 105,
   "id": "24ff9914",
   "metadata": {},
   "outputs": [
    {
     "name": "stdout",
     "output_type": "stream",
     "text": [
      "                     Player  Predictions  Labels  Round\n",
      "2287          Marinho (ATA)     20.07200   18.20     23\n",
      "2288      John Victor (GOL)      0.58878   -4.40     23\n",
      "2289   Felipe Jonatan (LAT)      0.86798   -0.90     23\n",
      "2290             Cuca (TEC)      3.97590    4.37     23\n",
      "2291     Diego Pituca (MEI)      0.13236   -0.20     23\n",
      "...                     ...          ...     ...    ...\n",
      "12140    Arthur Gomes (ATA)      2.98480    1.60     38\n",
      "12141       Jean Mota (MEI)     -0.23480    0.00     38\n",
      "12142          Sandry (MEI)     -0.19060   -0.40     38\n",
      "12143     Luiz Felipe (ZAG)      2.44490   -0.20     38\n",
      "12144          Ângelo (ATA)      0.14760    0.40     38\n",
      "\n",
      "[3313 rows x 4 columns]\n"
     ]
    }
   ],
   "source": [
    "import pandas as pd  \n",
    "  \n",
    "# assign data of lists.  \n",
    "data = {'Player': players_name,'Predictions': final_predictions, 'Labels': Y_test, 'Round': rounds,'Prices': prices}  \n",
    "  \n",
    "# Create DataFrame  \n",
    "xgb_reg_result = pd.DataFrame(data)  \n",
    "  \n",
    "# Print the output.  \n",
    "print(xgb_reg_result) "
   ]
  },
  {
   "cell_type": "code",
   "execution_count": 88,
   "id": "bb992719",
   "metadata": {},
   "outputs": [],
   "source": [
    "saveResult(xgb_reg_result, \"xgb\")"
   ]
  },
  {
   "cell_type": "code",
   "execution_count": null,
   "id": "b13cec20",
   "metadata": {},
   "outputs": [],
   "source": []
  }
 ],
 "metadata": {
  "kernelspec": {
   "display_name": "Python 3 (ipykernel)",
   "language": "python",
   "name": "python3"
  },
  "language_info": {
   "codemirror_mode": {
    "name": "ipython",
    "version": 3
   },
   "file_extension": ".py",
   "mimetype": "text/x-python",
   "name": "python",
   "nbconvert_exporter": "python",
   "pygments_lexer": "ipython3",
   "version": "3.8.10"
  }
 },
 "nbformat": 4,
 "nbformat_minor": 5
}
