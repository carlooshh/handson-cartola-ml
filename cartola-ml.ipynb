{
 "cells": [
  {
   "cell_type": "code",
   "execution_count": 1,
   "id": "d8d9f7f1",
   "metadata": {},
   "outputs": [
    {
     "name": "stdout",
     "output_type": "stream",
     "text": [
      "hello world!\n"
     ]
    }
   ],
   "source": [
    "print(\"hello world!\")"
   ]
  },
  {
   "cell_type": "code",
   "execution_count": 2,
   "id": "4d31a51e",
   "metadata": {},
   "outputs": [],
   "source": [
    "import os\n",
    "import tarfile\n",
    "from six.moves import urllib"
   ]
  },
  {
   "cell_type": "markdown",
   "id": "423db978",
   "metadata": {},
   "source": [
    "# GET DATA"
   ]
  },
  {
   "cell_type": "code",
   "execution_count": null,
   "id": "ca98c7be",
   "metadata": {},
   "outputs": [],
   "source": [
    "\n",
    "\n"
   ]
  },
  {
   "cell_type": "code",
   "execution_count": 10,
   "id": "bfc94ffe",
   "metadata": {},
   "outputs": [
    {
     "name": "stdout",
     "output_type": "stream",
     "text": [
      "https://www.kaggle.com/lgmoneda/cartola-fc-brasil-scouts\n",
      "Skipping, found downloaded files in \"datasets/scouts/cartola-fc-brasil-scouts\" (use force=True to force download)\n"
     ]
    }
   ],
   "source": [
    "import opendatasets as od \n",
    "import zipfile\n",
    "\n",
    "DOWNLOAD_ROOT = \"https://www.kaggle.com/lgmoneda/cartola-fc-brasil-scouts\"\n",
    "SCOUTS_PATH = os.path.join(\"datasets\", \"scouts\")\n",
    "SCOUTS_URL = DOWNLOAD_ROOT\n",
    "\n",
    "\n",
    "def fetch_scouts_data(scouts_url=SCOUTS_URL, scouts_path=SCOUTS_PATH):\n",
    "    if not os.path.isdir(scouts_path):\n",
    "        os.makedirs(scouts_path)\n",
    "    \n",
    "    zip_path = os.path.join(scouts_path, \"archive.zip\")\n",
    "    print(scouts_url)\n",
    "    od.download(DOWNLOAD_ROOT, scouts_path)\n",
    "\n",
    "#     scouts_zip = tarfile.open(zip_path)\n",
    "#     scouts_zip.extractall(path=scouts_path)\n",
    "#     scouts_zip.close()\n",
    "    \n",
    "fetch_scouts_data()\n",
    "\n",
    "import pandas as pd\n",
    "\n",
    "def load_scouts_data(scout_path=SCOUTS_PATH):\n",
    "    csv_path = os.path.join(scout_path + \"/cartola-fc-brasil-scouts\", \"jogadores.csv\")\n",
    "    print(csv_path)\n",
    "    return pd.read_csv(csv_path)"
   ]
  },
  {
   "cell_type": "code",
   "execution_count": 11,
   "id": "6c7e9324",
   "metadata": {},
   "outputs": [
    {
     "name": "stdout",
     "output_type": "stream",
     "text": [
      "datasets/scouts/cartola-fc-brasil-scouts/jogadores.csv\n"
     ]
    },
    {
     "data": {
      "text/html": [
       "<div>\n",
       "<style scoped>\n",
       "    .dataframe tbody tr th:only-of-type {\n",
       "        vertical-align: middle;\n",
       "    }\n",
       "\n",
       "    .dataframe tbody tr th {\n",
       "        vertical-align: top;\n",
       "    }\n",
       "\n",
       "    .dataframe thead th {\n",
       "        text-align: right;\n",
       "    }\n",
       "</style>\n",
       "<table border=\"1\" class=\"dataframe\">\n",
       "  <thead>\n",
       "    <tr style=\"text-align: right;\">\n",
       "      <th></th>\n",
       "      <th>Nome</th>\n",
       "      <th>Clube</th>\n",
       "      <th>Preço</th>\n",
       "      <th>J</th>\n",
       "      <th>Média</th>\n",
       "      <th>Últ. Pont.</th>\n",
       "      <th>Variação</th>\n",
       "      <th>DS</th>\n",
       "      <th>G</th>\n",
       "      <th>A</th>\n",
       "      <th>...</th>\n",
       "      <th>CA</th>\n",
       "      <th>PP</th>\n",
       "      <th>GS</th>\n",
       "      <th>FC</th>\n",
       "      <th>I</th>\n",
       "      <th>PI</th>\n",
       "      <th>rodada</th>\n",
       "      <th>ano</th>\n",
       "      <th>RB</th>\n",
       "      <th>PE</th>\n",
       "    </tr>\n",
       "  </thead>\n",
       "  <tbody>\n",
       "    <tr>\n",
       "      <th>0</th>\n",
       "      <td>Elton (ATA)</td>\n",
       "      <td>Sport</td>\n",
       "      <td>14.21</td>\n",
       "      <td>1.0</td>\n",
       "      <td>15.6</td>\n",
       "      <td>15.6</td>\n",
       "      <td>10.21</td>\n",
       "      <td>NaN</td>\n",
       "      <td>2.0</td>\n",
       "      <td>NaN</td>\n",
       "      <td>...</td>\n",
       "      <td>1.0</td>\n",
       "      <td>NaN</td>\n",
       "      <td>NaN</td>\n",
       "      <td>1.0</td>\n",
       "      <td>1.0</td>\n",
       "      <td>4.0</td>\n",
       "      <td>1</td>\n",
       "      <td>2020</td>\n",
       "      <td>NaN</td>\n",
       "      <td>NaN</td>\n",
       "    </tr>\n",
       "    <tr>\n",
       "      <th>1</th>\n",
       "      <td>Saravia (LAT)</td>\n",
       "      <td>Internacional</td>\n",
       "      <td>13.19</td>\n",
       "      <td>1.0</td>\n",
       "      <td>12.2</td>\n",
       "      <td>12.2</td>\n",
       "      <td>7.19</td>\n",
       "      <td>8.0</td>\n",
       "      <td>NaN</td>\n",
       "      <td>NaN</td>\n",
       "      <td>...</td>\n",
       "      <td>1.0</td>\n",
       "      <td>NaN</td>\n",
       "      <td>NaN</td>\n",
       "      <td>3.0</td>\n",
       "      <td>NaN</td>\n",
       "      <td>8.0</td>\n",
       "      <td>1</td>\n",
       "      <td>2020</td>\n",
       "      <td>NaN</td>\n",
       "      <td>NaN</td>\n",
       "    </tr>\n",
       "    <tr>\n",
       "      <th>2</th>\n",
       "      <td>Marinho (ATA)</td>\n",
       "      <td>Santos</td>\n",
       "      <td>12.10</td>\n",
       "      <td>1.0</td>\n",
       "      <td>11.7</td>\n",
       "      <td>11.7</td>\n",
       "      <td>7.10</td>\n",
       "      <td>1.0</td>\n",
       "      <td>1.0</td>\n",
       "      <td>NaN</td>\n",
       "      <td>...</td>\n",
       "      <td>NaN</td>\n",
       "      <td>NaN</td>\n",
       "      <td>NaN</td>\n",
       "      <td>2.0</td>\n",
       "      <td>NaN</td>\n",
       "      <td>5.0</td>\n",
       "      <td>1</td>\n",
       "      <td>2020</td>\n",
       "      <td>NaN</td>\n",
       "      <td>NaN</td>\n",
       "    </tr>\n",
       "    <tr>\n",
       "      <th>3</th>\n",
       "      <td>Igor Rabello (ZAG)</td>\n",
       "      <td>Atlético-MG</td>\n",
       "      <td>13.41</td>\n",
       "      <td>1.0</td>\n",
       "      <td>10.5</td>\n",
       "      <td>10.5</td>\n",
       "      <td>5.41</td>\n",
       "      <td>5.0</td>\n",
       "      <td>NaN</td>\n",
       "      <td>NaN</td>\n",
       "      <td>...</td>\n",
       "      <td>NaN</td>\n",
       "      <td>NaN</td>\n",
       "      <td>NaN</td>\n",
       "      <td>NaN</td>\n",
       "      <td>NaN</td>\n",
       "      <td>5.0</td>\n",
       "      <td>1</td>\n",
       "      <td>2020</td>\n",
       "      <td>NaN</td>\n",
       "      <td>NaN</td>\n",
       "    </tr>\n",
       "    <tr>\n",
       "      <th>4</th>\n",
       "      <td>Léo Cittadini (MEI)</td>\n",
       "      <td>Athlético-PR</td>\n",
       "      <td>12.90</td>\n",
       "      <td>1.0</td>\n",
       "      <td>9.8</td>\n",
       "      <td>9.8</td>\n",
       "      <td>4.90</td>\n",
       "      <td>NaN</td>\n",
       "      <td>1.0</td>\n",
       "      <td>NaN</td>\n",
       "      <td>...</td>\n",
       "      <td>NaN</td>\n",
       "      <td>NaN</td>\n",
       "      <td>NaN</td>\n",
       "      <td>NaN</td>\n",
       "      <td>NaN</td>\n",
       "      <td>NaN</td>\n",
       "      <td>1</td>\n",
       "      <td>2020</td>\n",
       "      <td>NaN</td>\n",
       "      <td>NaN</td>\n",
       "    </tr>\n",
       "  </tbody>\n",
       "</table>\n",
       "<p>5 rows × 29 columns</p>\n",
       "</div>"
      ],
      "text/plain": [
       "                  Nome          Clube  Preço    J  Média  Últ. Pont.  \\\n",
       "0          Elton (ATA)          Sport  14.21  1.0   15.6        15.6   \n",
       "1        Saravia (LAT)  Internacional  13.19  1.0   12.2        12.2   \n",
       "2        Marinho (ATA)         Santos  12.10  1.0   11.7        11.7   \n",
       "3   Igor Rabello (ZAG)    Atlético-MG  13.41  1.0   10.5        10.5   \n",
       "4  Léo Cittadini (MEI)   Athlético-PR  12.90  1.0    9.8         9.8   \n",
       "\n",
       "   Variação   DS    G   A  ...   CA  PP  GS   FC    I   PI  rodada   ano  RB  \\\n",
       "0     10.21  NaN  2.0 NaN  ...  1.0 NaN NaN  1.0  1.0  4.0       1  2020 NaN   \n",
       "1      7.19  8.0  NaN NaN  ...  1.0 NaN NaN  3.0  NaN  8.0       1  2020 NaN   \n",
       "2      7.10  1.0  1.0 NaN  ...  NaN NaN NaN  2.0  NaN  5.0       1  2020 NaN   \n",
       "3      5.41  5.0  NaN NaN  ...  NaN NaN NaN  NaN  NaN  5.0       1  2020 NaN   \n",
       "4      4.90  NaN  1.0 NaN  ...  NaN NaN NaN  NaN  NaN  NaN       1  2020 NaN   \n",
       "\n",
       "   PE  \n",
       "0 NaN  \n",
       "1 NaN  \n",
       "2 NaN  \n",
       "3 NaN  \n",
       "4 NaN  \n",
       "\n",
       "[5 rows x 29 columns]"
      ]
     },
     "execution_count": 11,
     "metadata": {},
     "output_type": "execute_result"
    }
   ],
   "source": [
    "scouts = load_scouts_data()\n",
    "scouts.head()"
   ]
  },
  {
   "cell_type": "code",
   "execution_count": null,
   "id": "97e80668",
   "metadata": {
    "collapsed": true
   },
   "outputs": [],
   "source": [
    "scouts.info()"
   ]
  },
  {
   "cell_type": "code",
   "execution_count": 34,
   "id": "688c7bb7",
   "metadata": {},
   "outputs": [],
   "source": [
    "soup = BeautifulSoup(content, 'html.parser')\n",
    "table = soup.find(name='table')"
   ]
  },
  {
   "cell_type": "code",
   "execution_count": 35,
   "id": "8c9f8f5f",
   "metadata": {
    "scrolled": false
   },
   "outputs": [],
   "source": [
    "table_str = str(table)\n",
    "df = pd.read_html(table_str)[0]"
   ]
  },
  {
   "cell_type": "code",
   "execution_count": 36,
   "id": "481d46d4",
   "metadata": {},
   "outputs": [
    {
     "ename": "WebDriverException",
     "evalue": "Message: chrome not reachable\n  (Session info: chrome=92.0.4515.159)\n",
     "output_type": "error",
     "traceback": [
      "\u001b[0;31m---------------------------------------------------------------------------\u001b[0m",
      "\u001b[0;31mWebDriverException\u001b[0m                        Traceback (most recent call last)",
      "\u001b[0;32m/tmp/ipykernel_4109/2508682614.py\u001b[0m in \u001b[0;36m<module>\u001b[0;34m\u001b[0m\n\u001b[1;32m     23\u001b[0m \u001b[0;31m# Add more to range for more phones\u001b[0m\u001b[0;34m\u001b[0m\u001b[0;34m\u001b[0m\u001b[0;34m\u001b[0m\u001b[0m\n\u001b[1;32m     24\u001b[0m \u001b[0;32mfor\u001b[0m \u001b[0mi\u001b[0m \u001b[0;32min\u001b[0m \u001b[0mrange\u001b[0m\u001b[0;34m(\u001b[0m\u001b[0;36m1\u001b[0m\u001b[0;34m)\u001b[0m\u001b[0;34m:\u001b[0m\u001b[0;34m\u001b[0m\u001b[0;34m\u001b[0m\u001b[0m\n\u001b[0;32m---> 25\u001b[0;31m     \u001b[0melement\u001b[0m \u001b[0;34m=\u001b[0m \u001b[0mdriver\u001b[0m\u001b[0;34m.\u001b[0m\u001b[0mfind_element_by_xpath\u001b[0m\u001b[0;34m(\u001b[0m\u001b[0;34m\"////////////////tr[@class='tbpaging']/////a[2]\"\u001b[0m\u001b[0;34m)\u001b[0m\u001b[0;34m\u001b[0m\u001b[0;34m\u001b[0m\u001b[0m\n\u001b[0m\u001b[1;32m     26\u001b[0m     \u001b[0mprint\u001b[0m\u001b[0;34m(\u001b[0m\u001b[0melement\u001b[0m\u001b[0;34m)\u001b[0m\u001b[0;34m\u001b[0m\u001b[0;34m\u001b[0m\u001b[0m\n\u001b[1;32m     27\u001b[0m \u001b[0;31m#     element.click()\u001b[0m\u001b[0;34m\u001b[0m\u001b[0;34m\u001b[0m\u001b[0;34m\u001b[0m\u001b[0m\n",
      "\u001b[0;32m~/.local/lib/python3.8/site-packages/selenium/webdriver/remote/webdriver.py\u001b[0m in \u001b[0;36mfind_element_by_xpath\u001b[0;34m(self, xpath)\u001b[0m\n\u001b[1;32m    392\u001b[0m             \u001b[0melement\u001b[0m \u001b[0;34m=\u001b[0m \u001b[0mdriver\u001b[0m\u001b[0;34m.\u001b[0m\u001b[0mfind_element_by_xpath\u001b[0m\u001b[0;34m(\u001b[0m\u001b[0;34m'//div/td[1]'\u001b[0m\u001b[0;34m)\u001b[0m\u001b[0;34m\u001b[0m\u001b[0;34m\u001b[0m\u001b[0m\n\u001b[1;32m    393\u001b[0m         \"\"\"\n\u001b[0;32m--> 394\u001b[0;31m         \u001b[0;32mreturn\u001b[0m \u001b[0mself\u001b[0m\u001b[0;34m.\u001b[0m\u001b[0mfind_element\u001b[0m\u001b[0;34m(\u001b[0m\u001b[0mby\u001b[0m\u001b[0;34m=\u001b[0m\u001b[0mBy\u001b[0m\u001b[0;34m.\u001b[0m\u001b[0mXPATH\u001b[0m\u001b[0;34m,\u001b[0m \u001b[0mvalue\u001b[0m\u001b[0;34m=\u001b[0m\u001b[0mxpath\u001b[0m\u001b[0;34m)\u001b[0m\u001b[0;34m\u001b[0m\u001b[0;34m\u001b[0m\u001b[0m\n\u001b[0m\u001b[1;32m    395\u001b[0m \u001b[0;34m\u001b[0m\u001b[0m\n\u001b[1;32m    396\u001b[0m     \u001b[0;32mdef\u001b[0m \u001b[0mfind_elements_by_xpath\u001b[0m\u001b[0;34m(\u001b[0m\u001b[0mself\u001b[0m\u001b[0;34m,\u001b[0m \u001b[0mxpath\u001b[0m\u001b[0;34m)\u001b[0m\u001b[0;34m:\u001b[0m\u001b[0;34m\u001b[0m\u001b[0;34m\u001b[0m\u001b[0m\n",
      "\u001b[0;32m~/.local/lib/python3.8/site-packages/selenium/webdriver/remote/webdriver.py\u001b[0m in \u001b[0;36mfind_element\u001b[0;34m(self, by, value)\u001b[0m\n\u001b[1;32m    974\u001b[0m                 \u001b[0mby\u001b[0m \u001b[0;34m=\u001b[0m \u001b[0mBy\u001b[0m\u001b[0;34m.\u001b[0m\u001b[0mCSS_SELECTOR\u001b[0m\u001b[0;34m\u001b[0m\u001b[0;34m\u001b[0m\u001b[0m\n\u001b[1;32m    975\u001b[0m                 \u001b[0mvalue\u001b[0m \u001b[0;34m=\u001b[0m \u001b[0;34m'[name=\"%s\"]'\u001b[0m \u001b[0;34m%\u001b[0m \u001b[0mvalue\u001b[0m\u001b[0;34m\u001b[0m\u001b[0;34m\u001b[0m\u001b[0m\n\u001b[0;32m--> 976\u001b[0;31m         return self.execute(Command.FIND_ELEMENT, {\n\u001b[0m\u001b[1;32m    977\u001b[0m             \u001b[0;34m'using'\u001b[0m\u001b[0;34m:\u001b[0m \u001b[0mby\u001b[0m\u001b[0;34m,\u001b[0m\u001b[0;34m\u001b[0m\u001b[0;34m\u001b[0m\u001b[0m\n\u001b[1;32m    978\u001b[0m             'value': value})['value']\n",
      "\u001b[0;32m~/.local/lib/python3.8/site-packages/selenium/webdriver/remote/webdriver.py\u001b[0m in \u001b[0;36mexecute\u001b[0;34m(self, driver_command, params)\u001b[0m\n\u001b[1;32m    319\u001b[0m         \u001b[0mresponse\u001b[0m \u001b[0;34m=\u001b[0m \u001b[0mself\u001b[0m\u001b[0;34m.\u001b[0m\u001b[0mcommand_executor\u001b[0m\u001b[0;34m.\u001b[0m\u001b[0mexecute\u001b[0m\u001b[0;34m(\u001b[0m\u001b[0mdriver_command\u001b[0m\u001b[0;34m,\u001b[0m \u001b[0mparams\u001b[0m\u001b[0;34m)\u001b[0m\u001b[0;34m\u001b[0m\u001b[0;34m\u001b[0m\u001b[0m\n\u001b[1;32m    320\u001b[0m         \u001b[0;32mif\u001b[0m \u001b[0mresponse\u001b[0m\u001b[0;34m:\u001b[0m\u001b[0;34m\u001b[0m\u001b[0;34m\u001b[0m\u001b[0m\n\u001b[0;32m--> 321\u001b[0;31m             \u001b[0mself\u001b[0m\u001b[0;34m.\u001b[0m\u001b[0merror_handler\u001b[0m\u001b[0;34m.\u001b[0m\u001b[0mcheck_response\u001b[0m\u001b[0;34m(\u001b[0m\u001b[0mresponse\u001b[0m\u001b[0;34m)\u001b[0m\u001b[0;34m\u001b[0m\u001b[0;34m\u001b[0m\u001b[0m\n\u001b[0m\u001b[1;32m    322\u001b[0m             response['value'] = self._unwrap_value(\n\u001b[1;32m    323\u001b[0m                 response.get('value', None))\n",
      "\u001b[0;32m~/.local/lib/python3.8/site-packages/selenium/webdriver/remote/errorhandler.py\u001b[0m in \u001b[0;36mcheck_response\u001b[0;34m(self, response)\u001b[0m\n\u001b[1;32m    240\u001b[0m                 \u001b[0malert_text\u001b[0m \u001b[0;34m=\u001b[0m \u001b[0mvalue\u001b[0m\u001b[0;34m[\u001b[0m\u001b[0;34m'alert'\u001b[0m\u001b[0;34m]\u001b[0m\u001b[0;34m.\u001b[0m\u001b[0mget\u001b[0m\u001b[0;34m(\u001b[0m\u001b[0;34m'text'\u001b[0m\u001b[0;34m)\u001b[0m\u001b[0;34m\u001b[0m\u001b[0;34m\u001b[0m\u001b[0m\n\u001b[1;32m    241\u001b[0m             \u001b[0;32mraise\u001b[0m \u001b[0mexception_class\u001b[0m\u001b[0;34m(\u001b[0m\u001b[0mmessage\u001b[0m\u001b[0;34m,\u001b[0m \u001b[0mscreen\u001b[0m\u001b[0;34m,\u001b[0m \u001b[0mstacktrace\u001b[0m\u001b[0;34m,\u001b[0m \u001b[0malert_text\u001b[0m\u001b[0;34m)\u001b[0m\u001b[0;34m\u001b[0m\u001b[0;34m\u001b[0m\u001b[0m\n\u001b[0;32m--> 242\u001b[0;31m         \u001b[0;32mraise\u001b[0m \u001b[0mexception_class\u001b[0m\u001b[0;34m(\u001b[0m\u001b[0mmessage\u001b[0m\u001b[0;34m,\u001b[0m \u001b[0mscreen\u001b[0m\u001b[0;34m,\u001b[0m \u001b[0mstacktrace\u001b[0m\u001b[0;34m)\u001b[0m\u001b[0;34m\u001b[0m\u001b[0;34m\u001b[0m\u001b[0m\n\u001b[0m\u001b[1;32m    243\u001b[0m \u001b[0;34m\u001b[0m\u001b[0m\n\u001b[1;32m    244\u001b[0m     \u001b[0;32mdef\u001b[0m \u001b[0m_value_or_default\u001b[0m\u001b[0;34m(\u001b[0m\u001b[0mself\u001b[0m\u001b[0;34m,\u001b[0m \u001b[0mobj\u001b[0m\u001b[0;34m,\u001b[0m \u001b[0mkey\u001b[0m\u001b[0;34m,\u001b[0m \u001b[0mdefault\u001b[0m\u001b[0;34m)\u001b[0m\u001b[0;34m:\u001b[0m\u001b[0;34m\u001b[0m\u001b[0;34m\u001b[0m\u001b[0m\n",
      "\u001b[0;31mWebDriverException\u001b[0m: Message: chrome not reachable\n  (Session info: chrome=92.0.4515.159)\n"
     ]
    }
   ],
   "source": [
    "from selenium import webdriver\n",
    "from selenium.webdriver.common.desired_capabilities import DesiredCapabilities\n",
    "from selenium.webdriver.common.by import By\n",
    "from selenium.webdriver.support.ui import WebDriverWait\n",
    "from selenium.webdriver.support import expected_conditions as EC\n",
    "import random\n",
    "import time\n",
    "\n",
    "chrome_options = webdriver.ChromeOptions()\n",
    "# prefs = {\"profile.default_content_setting_values.notifications\": 2}\n",
    "# chrome_options.add_experimental_option(\"prefs\", prefs)\n",
    "# A randomizer for the delay\n",
    "seconds = 5 + (random.random() * 5)\n",
    "# create a new Chrome session\n",
    "driver = webdriver.Chrome('/home/carlos/Documents/carlos/handson-cartola-machine-learnig-approach/chromedriver')\n",
    "driver.implicitly_wait(30)\n",
    "# driver.maximize_window()\n",
    "\n",
    "# navigate to the application home page\n",
    "driver.get(\"https://www.cartolafcbrasil.com.br/scouts/cartola-fc-2020/rodada-2\")\n",
    "time.sleep(seconds)\n",
    "time.sleep(seconds)\n",
    "# Add more to range for more phones\n",
    "for i in range(1):\n",
    "    element = driver.find_element_by_xpath(\"////////////////tr[@class='tbpaging']/////a[2]\")\n",
    "    print(element)\n",
    "#     element.click()\n",
    "    driver.execute_script(\"arguments[0].click();\", element)\n",
    "    time.sleep(seconds)\n",
    "    time.sleep(seconds)\n",
    "html = driver.page_source\n",
    "soup = BeautifulSoup(req.content, 'html.parser')\n",
    "table = soup.find('table')\n",
    "print(table)\n",
    "# for container in containers:\n",
    "# # Add error handling\n",
    "#     try:\n",
    "#         name = container.h3.text\n",
    "#         price = container.find(\"span\", {'class': 'p_price'}).text\n",
    "#         print(\"Name : \" + name.replace(\",\", \" \"))\n",
    "#         print(\"Price : \" + price)\n",
    "#     except AttributeError:\n",
    "#         continue\n",
    "driver.quit()\n",
    "\n",
    "url = \"https://www.cartolafcbrasil.com.br/scouts/cartola-fc-{}/rodada-{}\""
   ]
  },
  {
   "cell_type": "code",
   "execution_count": null,
   "id": "3fc96353",
   "metadata": {
    "scrolled": false
   },
   "outputs": [],
   "source": [
    "def scrape_stats(url, year_start, year_end, round_start, round_end):\n",
    "    years = range(year_start, year_end + 1, 1)\n",
    "    rounds  = range(round_start, round_end + 1, 1)\n",
    "    \n",
    "    final_df = pd.DataFrame()\n",
    "    \n",
    "    for year in years:\n",
    "        for match in rounds:\n",
    "            print(\"Extracting season {} round {} stats.\".format(year, match))\n",
    "            req_url = url.format(year, match)\n",
    "            req = requests.get(req_url)\n",
    "            soup = BeautifulSoup(req.content, 'html.parser')\n",
    "            table = soup.find('table')\n",
    "            table.find(\"tr\",{\"class\":\"tbpaging\"}).extract()\n",
    "            \n",
    "            df = pd.read_html(str(table))[0]\n",
    "            df['Year'] = year\n",
    "            df['Round'] = match\n",
    "            \n",
    "            final_df = final_df.append(df)\n",
    "            \n",
    "    return final_df\n",
    "\n",
    "url = \"https://www.cartolafcbrasil.com.br/scouts/cartola-fc-{}/rodada-{}\"\n",
    "df_2020 = scrape_stats(url, 2020,2020,1,38)\n",
    "df_2021 =  scrape_stats(url, 2021,2021,1,22)"
   ]
  },
  {
   "cell_type": "code",
   "execution_count": null,
   "id": "cb8274b4",
   "metadata": {},
   "outputs": [],
   "source": [
    "final_df = pd.DataFrame()\n",
    "final_df = final_df.append(df_2020).append(df_2021)"
   ]
  },
  {
   "cell_type": "code",
   "execution_count": null,
   "id": "adcf3abb",
   "metadata": {},
   "outputs": [],
   "source": [
    "final_df.to_csv(\"cartola.csv\",index=False)"
   ]
  },
  {
   "cell_type": "code",
   "execution_count": null,
   "id": "6c63df71",
   "metadata": {},
   "outputs": [],
   "source": [
    "data = pd.read_csv('cartola.csv')\n",
    "# Preview data.\n",
    "display(data.head())"
   ]
  },
  {
   "cell_type": "code",
   "execution_count": null,
   "id": "70499d8c",
   "metadata": {},
   "outputs": [],
   "source": [
    "#criando attr posicao\n",
    "data[\"Posicao\"] = data[\"Nome\"].apply(lambda x : pd.Series(x.split('(')))[1].str.replace(\")\",\"\", regex=True)"
   ]
  },
  {
   "cell_type": "markdown",
   "id": "462035c8",
   "metadata": {},
   "source": [
    "# Looking at the data"
   ]
  },
  {
   "cell_type": "code",
   "execution_count": null,
   "id": "ca2f06c9",
   "metadata": {},
   "outputs": [],
   "source": [
    "data.head()"
   ]
  },
  {
   "cell_type": "code",
   "execution_count": null,
   "id": "f1c1577a",
   "metadata": {},
   "outputs": [],
   "source": [
    "data[\"Posicao\"].value_counts()"
   ]
  },
  {
   "cell_type": "code",
   "execution_count": null,
   "id": "4357a49c",
   "metadata": {},
   "outputs": [],
   "source": [
    "data.info()"
   ]
  },
  {
   "cell_type": "code",
   "execution_count": null,
   "id": "314d1065",
   "metadata": {},
   "outputs": [],
   "source": [
    "data.describe()"
   ]
  },
  {
   "cell_type": "code",
   "execution_count": null,
   "id": "64d0f365",
   "metadata": {},
   "outputs": [],
   "source": [
    "%matplotlib inline\n",
    "import matplotlib.pyplot as plt\n",
    "data.hist(bins=50, figsize=(40,30))\n",
    "save_fig(\"attribute_histogram_plots\")\n",
    "plt.show()"
   ]
  },
  {
   "cell_type": "code",
   "execution_count": null,
   "id": "596e2c89",
   "metadata": {},
   "outputs": [],
   "source": [
    "#to make this notebook's the identifical at every run \n",
    "import numpy as np\n",
    "np.random.seed(42)"
   ]
  },
  {
   "cell_type": "code",
   "execution_count": null,
   "id": "80c594a6",
   "metadata": {},
   "outputs": [],
   "source": []
  }
 ],
 "metadata": {
  "kernelspec": {
   "display_name": "Python 3 (ipykernel)",
   "language": "python",
   "name": "python3"
  },
  "language_info": {
   "codemirror_mode": {
    "name": "ipython",
    "version": 3
   },
   "file_extension": ".py",
   "mimetype": "text/x-python",
   "name": "python",
   "nbconvert_exporter": "python",
   "pygments_lexer": "ipython3",
   "version": "3.8.10"
  }
 },
 "nbformat": 4,
 "nbformat_minor": 5
}
